{
  "cells": [
    {
      "cell_type": "markdown",
      "id": "9c67ea8b",
      "metadata": {
        "id": "9c67ea8b"
      },
      "source": [
        "# ResNets\n",
        "\n",
        "This week we discussed ResNets which are convolutional neural networks but with a residual learning framework realized by creating residual blocks via shortcut connections. In this notebook, we'll be implementing a fully connected NN, a plain CNN and a residual network and comparing the results on the MNIST dataset.\n",
        "\n",
        "We'll start off by loading the data. We'll be working with the MNIST dataset, which provides 70,000 labeled 28x28 images of handwritten digits. Our goal is to construct a classifier that recognizes handwritten digits."
      ]
    },
    {
      "cell_type": "code",
      "execution_count": null,
      "id": "d311a0bb",
      "metadata": {
        "id": "d311a0bb"
      },
      "outputs": [],
      "source": [
        "import torch\n",
        "from torch import nn\n",
        "import numpy as np\n",
        "from sklearn.datasets import fetch_openml\n",
        "import torch.utils.data as data_utils\n",
        "from sklearn.model_selection import train_test_split\n",
        "from torch import optim\n",
        "import matplotlib.pyplot as plt\n",
        "from torchvision import transforms\n",
        "\n",
        "%matplotlib inline\n",
        "\n",
        "# Load the dataset... This can take a while\n",
        "if(\"mnist\" not in globals()):  # Don't load the dataset twice...\n",
        "    mnist = fetch_openml('mnist_784', version=1)\n",
        "    # Convert DataFrame to 24x24 numpy arrays...\n",
        "    imgs = mnist.data.to_numpy().reshape(70000, 28, 28).astype(np.float32)\n",
        "    # Labels for the mnist data, 0-9 being the number...\n",
        "    labels = np.asarray(mnist.target).astype(int)\n",
        "    \n",
        "    imgs_train, imgs_test, labels_train, labels_test = train_test_split(\n",
        "        imgs, labels, test_size=0.2, random_state=1\n",
        "    )"
      ]
    },
    {
      "cell_type": "markdown",
      "id": "7549fc57",
      "metadata": {
        "id": "7549fc57"
      },
      "source": [
        "Let's plot one of the digits at random to see what they look like."
      ]
    },
    {
      "cell_type": "code",
      "execution_count": null,
      "id": "7269cb01",
      "metadata": {
        "scrolled": false,
        "id": "7269cb01",
        "colab": {
          "base_uri": "https://localhost:8080/",
          "height": 281
        },
        "outputId": "7e2066a5-3392-4b64-853c-6eba41a29d18"
      },
      "outputs": [
        {
          "output_type": "display_data",
          "data": {
            "image/png": "[encoded data removed]",
            "text/plain": [
              "<Figure size 432x288 with 1 Axes>"
            ]
          },
          "metadata": {
            "needs_background": "light"
          }
        }
      ],
      "source": [
        "idx = np.random.randint(0, imgs.shape[0])\n",
        "single_digit = imgs[idx]\n",
        "single_label = labels[idx]\n",
        "\n",
        "fig, ax = plt.subplots(1, 1)\n",
        "ax.set_title(f\"Digit: {single_label}\")\n",
        "ax.imshow(single_digit, cmap=\"Greys\")\n",
        "fig.show()"
      ]
    },
    {
      "cell_type": "markdown",
      "id": "7d142723",
      "metadata": {
        "id": "7d142723"
      },
      "source": [
        "We'll attempt to use a GPU to run these models. We'll check if one is available and assign it to our device."
      ]
    },
    {
      "cell_type": "code",
      "execution_count": null,
      "id": "fced8572",
      "metadata": {
        "id": "fced8572",
        "colab": {
          "base_uri": "https://localhost:8080/"
        },
        "outputId": "c1e516ee-fce5-441f-a1d6-eb79819be2f2"
      },
      "outputs": [
        {
          "output_type": "stream",
          "name": "stdout",
          "text": [
            "Running PyTorch Using: cuda\n"
          ]
        }
      ],
      "source": [
        "is_cuda = torch.cuda.is_available()\n",
        "\n",
        "if is_cuda:\n",
        "    device = torch.device(\"cuda\") # GPU\n",
        "else:\n",
        "    device = torch.device(\"cpu\") # CPU\n",
        "    \n",
        "print(f\"Running PyTorch Using: {device}\")"
      ]
    },
    {
      "cell_type": "markdown",
      "id": "22eff670",
      "metadata": {
        "id": "22eff670"
      },
      "source": [
        "Now we'll prepare our data for training and testing using Pytorch's DataLoader which will pass in samples in “minibatches” and reshuffle the data at every epoch to reduce model overfitting. "
      ]
    },
    {
      "cell_type": "code",
      "execution_count": null,
      "id": "d2a0d284",
      "metadata": {
        "id": "d2a0d284"
      },
      "outputs": [],
      "source": [
        "# Set the batch size:\n",
        "batch_size = 256 \n",
        "\n",
        "# Set up data loaders, these will be used to train and test models...\n",
        "to_device = lambda a: torch.from_numpy(a).to(device)\n",
        "\n",
        "train_loader = data_utils.DataLoader(\n",
        "    data_utils.TensorDataset(to_device(imgs_train), to_device(labels_train)),\n",
        "    batch_size = batch_size,\n",
        "    shuffle = True\n",
        ")\n",
        "\n",
        "test_loader = data_utils.DataLoader(\n",
        "    data_utils.TensorDataset(to_device(imgs_test), to_device(labels_test)),\n",
        "    batch_size = batch_size,\n",
        "    shuffle = True\n",
        ")"
      ]
    },
    {
      "cell_type": "markdown",
      "id": "650c144f",
      "metadata": {
        "id": "650c144f"
      },
      "source": [
        "## Simple Model: Fully Connected NN\n",
        "\n",
        "Now that we have our data set-up, let's start to implement our first network: a fully connected neural network."
      ]
    },
    {
      "cell_type": "code",
      "execution_count": null,
      "id": "1073fdae",
      "metadata": {
        "id": "1073fdae"
      },
      "outputs": [],
      "source": [
        "class SimpleNet(nn.Module):\n",
        "    def __init__(\n",
        "        self, \n",
        "        img_w: int, \n",
        "        img_h: int, \n",
        "        hidden_layer_sizes: list, \n",
        "        class_size: int\n",
        "    ):\n",
        "        super().__init__()\n",
        "        \n",
        "        self._in_layer = nn.Linear(img_w * img_h, hidden_layer_sizes[0])\n",
        "        \n",
        "        layers = []\n",
        "        for hls1, hls2 in zip(hidden_layer_sizes[:-1], hidden_layer_sizes[1:]):\n",
        "            layers.extend([nn.Linear(hls1, hls2), nn.ReLU()])\n",
        "        \n",
        "        self._hidden_layers = nn.Sequential(*layers)\n",
        "        \n",
        "        self._out_layer = nn.Linear(hidden_layer_sizes[-1], class_size)\n",
        "        self._softmax = nn.Softmax(dim=1)\n",
        "        \n",
        "    def forward(self, x: torch.tensor) -> torch.tensor:\n",
        "        x = x.reshape(-1, img_w * img_h)\n",
        "        \n",
        "        x = self._in_layer(x)\n",
        "        x = self._hidden_layers(x)\n",
        "        return self._softmax(self._out_layer(x))"
      ]
    },
    {
      "cell_type": "markdown",
      "id": "e137b258",
      "metadata": {
        "id": "e137b258"
      },
      "source": [
        "Let's define some variables to use with our simple network."
      ]
    },
    {
      "cell_type": "code",
      "execution_count": null,
      "id": "aa504256",
      "metadata": {
        "id": "aa504256",
        "colab": {
          "base_uri": "https://localhost:8080/"
        },
        "outputId": "7a0332dd-36fd-43bf-8304-5e30c9cf84fd"
      },
      "outputs": [
        {
          "output_type": "execute_result",
          "data": {
            "text/plain": [
              "SimpleNet(\n",
              "  (_in_layer): Linear(in_features=784, out_features=128, bias=True)\n",
              "  (_hidden_layers): Sequential(\n",
              "    (0): Linear(in_features=128, out_features=64, bias=True)\n",
              "    (1): ReLU()\n",
              "    (2): Linear(in_features=64, out_features=32, bias=True)\n",
              "    (3): ReLU()\n",
              "  )\n",
              "  (_out_layer): Linear(in_features=32, out_features=10, bias=True)\n",
              "  (_softmax): Softmax(dim=1)\n",
              ")"
            ]
          },
          "metadata": {},
          "execution_count": 5
        }
      ],
      "source": [
        "# Set these!\n",
        "img_w = 28  # Height of the images\n",
        "img_h = 28  # Width of the images\n",
        "hidden_layer_sizes = [128, 64, 32]  # List of None\n",
        "class_size = 10  # Size of output\n",
        "\n",
        "simple_net = SimpleNet(img_w, img_h, hidden_layer_sizes, class_size)\n",
        "simple_net.to(device)"
      ]
    },
    {
      "cell_type": "markdown",
      "id": "32840245",
      "metadata": {
        "id": "32840245"
      },
      "source": [
        "We also want some functions to see how our network performs. These are defined below:"
      ]
    },
    {
      "cell_type": "code",
      "execution_count": null,
      "id": "ef081397",
      "metadata": {
        "id": "ef081397"
      },
      "outputs": [],
      "source": [
        "# Functions for training a model...\n",
        "def train_model(\n",
        "    model, \n",
        "    train_data, \n",
        "    test_data, \n",
        "    optimizer, \n",
        "    error_func, \n",
        "    n_epochs, \n",
        "    augment_method=None, \n",
        "    print_every=300\n",
        "):\n",
        "    for epoch_i in range(1, n_epochs + 1):\n",
        "        for i, (img, label) in enumerate(train_data, 1):\n",
        "            model.zero_grad()\n",
        "            # If an augmentation method is passed, use it before passing the image to the model.\n",
        "            predicted = model.forward(img if(augment_method is None) else augment_method(img))\n",
        "            loss = error_func(predicted, label)\n",
        "            loss.backward()\n",
        "            optimizer.step()\n",
        "            \n",
        "            if((i % print_every == 0) or (i == len(train_data))):\n",
        "                print(f\"Epoch: {epoch_i}/{n_epochs}, Iter: {i}/{len(train_data)}, Loss: {loss:.04f}\")\n",
        "                \n",
        "        # Run against the test set and train set at the end of each epoch to get accuracy...\n",
        "        acc1 = get_accuracy(model, train_data, augment_method)\n",
        "        print(f\"Epoch {epoch_i} Train Accuracy: {acc1 * 100:.02f}%\")\n",
        "        acc2 = get_accuracy(model, test_data, augment_method)\n",
        "        print(f\"Epoch {epoch_i} Test Accuracy: {acc2 * 100:.02f}%\\n\")\n",
        "    \n",
        "    return model\n",
        "        \n",
        "        \n",
        "def get_accuracy(model, data, im_mod = None):\n",
        "    run = 0\n",
        "    correct = 0\n",
        "\n",
        "    for img, label in data:\n",
        "        img = im_mod(img) if(im_mod is not None) else img   # Allows us to modify the images...\n",
        "        run += len(img)\n",
        "        result = model.forward(img).cpu().detach().numpy()\n",
        "        correct += np.sum(np.argmax(result, axis=1) == label.cpu().detach().numpy())\n",
        "\n",
        "    return correct / run"
      ]
    },
    {
      "cell_type": "markdown",
      "id": "51f80707",
      "metadata": {
        "id": "51f80707"
      },
      "source": [
        "Let's set a number of epochs and a learning rate for the model and see how it does."
      ]
    },
    {
      "cell_type": "code",
      "execution_count": null,
      "id": "c9eb7686",
      "metadata": {
        "id": "c9eb7686"
      },
      "outputs": [],
      "source": [
        "# Set these!\n",
        "n_epochs = 20 \n",
        "lr = 1e-3 \n",
        "\n",
        "# Set up everything...\n",
        "optimizer = optim.Adam(simple_net.parameters(), lr=lr)\n",
        "loss_func = nn.CrossEntropyLoss()"
      ]
    },
    {
      "cell_type": "code",
      "execution_count": null,
      "id": "dbbe99dd",
      "metadata": {
        "scrolled": true,
        "id": "dbbe99dd",
        "colab": {
          "base_uri": "https://localhost:8080/"
        },
        "outputId": "4790b14b-22ef-4a11-e192-576297de76cf"
      },
      "outputs": [
        {
          "output_type": "stream",
          "name": "stdout",
          "text": [
            "Epoch: 1/20, Iter: 219/219, Loss: 1.7270\n",
            "Epoch 1 Train Accuracy: 78.24%\n",
            "Epoch 1 Test Accuracy: 77.92%\n",
            "\n",
            "Epoch: 2/20, Iter: 219/219, Loss: 1.5158\n",
            "Epoch 2 Train Accuracy: 92.61%\n",
            "Epoch 2 Test Accuracy: 92.07%\n",
            "\n",
            "Epoch: 3/20, Iter: 219/219, Loss: 1.5240\n",
            "Epoch 3 Train Accuracy: 93.16%\n",
            "Epoch 3 Test Accuracy: 92.66%\n",
            "\n",
            "Epoch: 4/20, Iter: 219/219, Loss: 1.5403\n",
            "Epoch 4 Train Accuracy: 93.48%\n",
            "Epoch 4 Test Accuracy: 92.96%\n",
            "\n",
            "Epoch: 5/20, Iter: 219/219, Loss: 1.5370\n",
            "Epoch 5 Train Accuracy: 93.91%\n",
            "Epoch 5 Test Accuracy: 93.16%\n",
            "\n",
            "Epoch: 6/20, Iter: 219/219, Loss: 1.5427\n",
            "Epoch 6 Train Accuracy: 89.64%\n",
            "Epoch 6 Test Accuracy: 89.01%\n",
            "\n",
            "Epoch: 7/20, Iter: 219/219, Loss: 1.5673\n",
            "Epoch 7 Train Accuracy: 93.06%\n",
            "Epoch 7 Test Accuracy: 92.24%\n",
            "\n",
            "Epoch: 8/20, Iter: 219/219, Loss: 1.5603\n",
            "Epoch 8 Train Accuracy: 92.84%\n",
            "Epoch 8 Test Accuracy: 91.96%\n",
            "\n",
            "Epoch: 9/20, Iter: 219/219, Loss: 1.5491\n",
            "Epoch 9 Train Accuracy: 93.90%\n",
            "Epoch 9 Test Accuracy: 93.51%\n",
            "\n",
            "Epoch: 10/20, Iter: 219/219, Loss: 1.5107\n",
            "Epoch 10 Train Accuracy: 94.17%\n",
            "Epoch 10 Test Accuracy: 93.23%\n",
            "\n",
            "Epoch: 11/20, Iter: 219/219, Loss: 1.5445\n",
            "Epoch 11 Train Accuracy: 93.05%\n",
            "Epoch 11 Test Accuracy: 92.49%\n",
            "\n",
            "Epoch: 12/20, Iter: 219/219, Loss: 1.5044\n",
            "Epoch 12 Train Accuracy: 94.46%\n",
            "Epoch 12 Test Accuracy: 93.88%\n",
            "\n",
            "Epoch: 13/20, Iter: 219/219, Loss: 1.5601\n",
            "Epoch 13 Train Accuracy: 92.41%\n",
            "Epoch 13 Test Accuracy: 91.51%\n",
            "\n",
            "Epoch: 14/20, Iter: 219/219, Loss: 1.5132\n",
            "Epoch 14 Train Accuracy: 93.72%\n",
            "Epoch 14 Test Accuracy: 92.95%\n",
            "\n",
            "Epoch: 15/20, Iter: 219/219, Loss: 1.5028\n",
            "Epoch 15 Train Accuracy: 93.76%\n",
            "Epoch 15 Test Accuracy: 92.91%\n",
            "\n",
            "Epoch: 16/20, Iter: 219/219, Loss: 1.5283\n",
            "Epoch 16 Train Accuracy: 90.34%\n",
            "Epoch 16 Test Accuracy: 90.21%\n",
            "\n",
            "Epoch: 17/20, Iter: 219/219, Loss: 1.5329\n",
            "Epoch 17 Train Accuracy: 91.44%\n",
            "Epoch 17 Test Accuracy: 91.07%\n",
            "\n",
            "Epoch: 18/20, Iter: 219/219, Loss: 1.5470\n",
            "Epoch 18 Train Accuracy: 92.28%\n",
            "Epoch 18 Test Accuracy: 91.91%\n",
            "\n",
            "Epoch: 19/20, Iter: 219/219, Loss: 1.5601\n",
            "Epoch 19 Train Accuracy: 93.73%\n",
            "Epoch 19 Test Accuracy: 93.22%\n",
            "\n",
            "Epoch: 20/20, Iter: 219/219, Loss: 1.4923\n",
            "Epoch 20 Train Accuracy: 93.52%\n",
            "Epoch 20 Test Accuracy: 92.71%\n",
            "\n"
          ]
        }
      ],
      "source": [
        "# Train the model...\n",
        "simple_net = train_model(simple_net, train_loader, test_loader, optimizer, loss_func, n_epochs)"
      ]
    },
    {
      "cell_type": "markdown",
      "id": "f6a7e947",
      "metadata": {
        "id": "f6a7e947"
      },
      "source": [
        "### Is this model robust to translations?\n",
        "\n",
        "Our initial results are pretty good! Let's see the accuracy when we \"shift\" the image data around a little bit..."
      ]
    },
    {
      "cell_type": "code",
      "execution_count": null,
      "id": "7f115506",
      "metadata": {
        "id": "7f115506",
        "colab": {
          "base_uri": "https://localhost:8080/",
          "height": 216
        },
        "outputId": "4d54bd4c-26c7-4e29-8066-151f430743fd"
      },
      "outputs": [
        {
          "output_type": "display_data",
          "data": {
            "image/png": "[encoded data removed]",
            "text/plain": [
              "<Figure size 432x288 with 2 Axes>"
            ]
          },
          "metadata": {
            "needs_background": "light"
          }
        }
      ],
      "source": [
        "img_transform = transforms.RandomAffine((-10, 10), (0.2, 0.2), (0.8, 1.2), (-5, 5))\n",
        "\n",
        "def img_shift_and_warp(img: torch.tensor) -> torch.tensor:\n",
        "    if(len(img.shape) == 2):\n",
        "        img = img.reshape(1, *img.shape)   \n",
        "    img = img_transform(img)\n",
        "    return img\n",
        "    \n",
        "\n",
        "# Show what img_shift_and_warp does to our images...\n",
        "random_idx = np.random.randint(0, len(imgs))\n",
        "\n",
        "fig, (ax1, ax2) = plt.subplots(1, 2)\n",
        "\n",
        "ax1.set_title(\"Original Image\")\n",
        "ax2.set_title(\"Shifted Image\")\n",
        "ax1.imshow(imgs[random_idx], cmap=\"Greys\")\n",
        "ax2.imshow(img_shift_and_warp(torch.from_numpy(imgs[random_idx]))[0], cmap=\"Greys\")\n",
        "\n",
        "fig.show()"
      ]
    },
    {
      "cell_type": "code",
      "execution_count": null,
      "id": "eac1c209",
      "metadata": {
        "scrolled": false,
        "id": "eac1c209",
        "colab": {
          "base_uri": "https://localhost:8080/"
        },
        "outputId": "ce918999-70f4-4cd9-eea8-a517cbebb535"
      },
      "outputs": [
        {
          "output_type": "stream",
          "name": "stdout",
          "text": [
            "Normal Test Accuracy: 92.71%\n",
            "Augmented Test Accuracy: 27.00%\n"
          ]
        }
      ],
      "source": [
        "print(f\"Normal Test Accuracy: {get_accuracy(simple_net, test_loader) * 100:.02f}%\")\n",
        "print(f\"Augmented Test Accuracy: {get_accuracy(simple_net, test_loader, img_shift_and_warp) * 100:.02f}%\")"
      ]
    },
    {
      "cell_type": "markdown",
      "id": "20e4aeef",
      "metadata": {
        "id": "20e4aeef"
      },
      "source": [
        "Yikes! Shifting around the numbers destroys the accuracy of our simple fully connected network destroys its performance. Can we fix this through data augmentation?"
      ]
    },
    {
      "cell_type": "code",
      "execution_count": null,
      "id": "ffb6c642",
      "metadata": {
        "scrolled": true,
        "id": "ffb6c642"
      },
      "outputs": [],
      "source": [
        "# Train the model...\n",
        "simple_net = train_model(simple_net, train_loader, test_loader, optimizer, loss_func, n_epochs, img_shift_and_warp)"
      ]
    },
    {
      "cell_type": "code",
      "execution_count": null,
      "id": "26ded958",
      "metadata": {
        "scrolled": true,
        "id": "26ded958",
        "colab": {
          "base_uri": "https://localhost:8080/"
        },
        "outputId": "a499a4ca-1114-4fb9-9395-78addb36e8e3"
      },
      "outputs": [
        {
          "output_type": "stream",
          "name": "stdout",
          "text": [
            "Normal Test Accuracy: 68.31%\n",
            "Augmented Test Accuracy: 40.69%\n"
          ]
        }
      ],
      "source": [
        "print(f\"Normal Test Accuracy: {get_accuracy(simple_net, test_loader) * 100:.02f}%\")\n",
        "print(f\"Augmented Test Accuracy: {get_accuracy(simple_net, test_loader, img_shift_and_warp) * 100:.02f}%\")"
      ]
    },
    {
      "cell_type": "markdown",
      "id": "579ff327",
      "metadata": {
        "id": "579ff327"
      },
      "source": [
        "Even after training the network using augmented images, we can see that a fully connected network still performs worse on transformed images. Even more interesting, is that the network now performs more poorly on the original data.\n",
        "\n",
        "### Question\n",
        "\n",
        "__Why do you think the model performs more poorly on the original data when trained on augmented data?__\n",
        "\n",
        "__Answer__: The fully connected neural network does not take into account the structure of the digits, but instead is memorizing the fixed pixel values of particular classes. As long as the digits are centered and of uniform size and orientation, this strategy works pretty well. Augmenting the data, however, undercuts this strategy entirely, and naturally strains the model's brittle memorization scheme."
      ]
    },
    {
      "cell_type": "markdown",
      "id": "a79b1b2e",
      "metadata": {
        "id": "a79b1b2e"
      },
      "source": [
        "# Using a ResNet\n",
        "\n",
        "Now that we've looked at a fully connected network and a, let's see if we can achieve even better results with a residual network (ResNet).\n",
        "\n",
        "We'll start by defining a residual block. Let's do a quick recap on what this is.\n",
        "\n",
        "![residual_block.png](attachment:residual_block.png)\n",
        "\n",
        "Here we let $H(\\textbf{x})$ be the output of a few stacked nonlinear layers where $\\textbf{x}$ is the input to the first of these layers. \n",
        "We'll let these stacked layers fit a residual mapping (the difference between the input and output) with $F(\\textbf{x}) = H(\\textbf{x}) - \\textbf{x}$.\n",
        "Our original function now becomes $H(\\textbf{x}) = F(\\textbf{x}) + \\textbf{x}$. We expect this to be easier for the solvers to optimize as opposed to the original unreferenced mapping.\n",
        "\n",
        "A residual block can be formally defined with the equation\n",
        "$\\textbf{y} = F(\\textbf{x}, \\{W_{i}\\}) + W_s\\textbf{x}$ where $\\textbf{x}, \\textbf{y}$ are the input and output vectors and $F(\\textbf{x}, \\{W_{i}\\})$ is the residual mapping to be learned.\n",
        "For the example block shown here (what we'll be implementing) with two weight layers and a ReLU function, we let $F = W_2 \\sigma (W_1\\textbf{x})$\n",
        "\n",
        "The main thing to takeaway from residual blocks (and what makes ResNets differ from plain CNNs) is the use of the identity shortcut connection which allows the input to be added to the output of the stacked layers."
      ]
    },
    {
      "cell_type": "code",
      "execution_count": null,
      "id": "cd841210",
      "metadata": {
        "id": "cd841210"
      },
      "outputs": [],
      "source": [
        "class ResidualBlock(nn.Module):\n",
        "    \"\"\"\n",
        "    A single residual block.\n",
        "    \"\"\"\n",
        "    def __init__(self, in_channels: int, out_channels: int, kernel_size: int, stride: int = 1):\n",
        "        super().__init__()\n",
        "        \n",
        "        if(kernel_size % 2 == 0):\n",
        "            raise ValueError(\"Kernel size must be odd!\")\n",
        "            \n",
        "        self._in_channels = in_channels\n",
        "        self._out_channels = out_channels\n",
        "        \n",
        "        self._conv1 = nn.Conv2d(in_channels, out_channels, kernel_size, stride, padding=kernel_size // 2)\n",
        "        self._relu = nn.ReLU()\n",
        "        self._conv2 = nn.Conv2d(out_channels, out_channels, kernel_size, 1, padding=kernel_size // 2)\n",
        "        \n",
        "        if(stride == 1):\n",
        "            self._identity = nn.Identity()\n",
        "        else:\n",
        "            # As paper suggests use convolution with 1x1 kernel and stride of 2 to linearly downsample the data\n",
        "            self._identity = nn.Conv2d(in_channels, out_channels, (1, 1), 2)\n",
        "        \n",
        "        self._relu2 = nn.ReLU()\n",
        "    \n",
        "    def forward(self, x: torch.tensor) -> torch.tensor:\n",
        "        # Non-Linear part...\n",
        "        x_nonlinear = self._conv2(self._relu(self._conv1(x)))\n",
        "        # Linear part...\n",
        "        x_linear = self._identity(x)\n",
        "        return self._relu2(x_nonlinear + x_linear)\n",
        "\n",
        "    \n",
        "class VanillaBlock(nn.Module):\n",
        "    \"\"\"\n",
        "    A single vanilla block (no skip connections).\n",
        "    \"\"\"\n",
        "    def __init__(self, in_channels: int, out_channels: int, kernel_size: int, stride: int = 1):\n",
        "        super().__init__()\n",
        "        \n",
        "        if(kernel_size % 2 == 0):\n",
        "            raise ValueError(\"Kernel size must be odd!\")\n",
        "            \n",
        "        self._in_channels = in_channels\n",
        "        self._out_channels = out_channels\n",
        "        \n",
        "        self._conv1 = nn.Conv2d(in_channels, out_channels, kernel_size, stride, padding=kernel_size // 2)\n",
        "        self._relu = nn.ReLU()\n",
        "        self._conv2 = nn.Conv2d(out_channels, out_channels, kernel_size, 1, padding=kernel_size // 2)\n",
        "        self._relu2 = nn.ReLU()\n",
        "    \n",
        "    def forward(self, x: torch.tensor) -> torch.tensor:\n",
        "        x_nonlinear = self._conv2(self._relu(self._conv1(x)))     \n",
        "        return self._relu2(x_nonlinear)\n"
      ]
    },
    {
      "cell_type": "markdown",
      "id": "5476a03c",
      "metadata": {
        "id": "5476a03c"
      },
      "source": [
        "Now, we'll define a network capable of taking a layer description list and building a ResNet style CNN out of this list."
      ]
    },
    {
      "cell_type": "code",
      "execution_count": null,
      "id": "49cfba7b",
      "metadata": {
        "id": "49cfba7b"
      },
      "outputs": [],
      "source": [
        "class ResNet(nn.Module):\n",
        "    def __init__(self,\n",
        "        in_channels: int,\n",
        "        hidden_size: int, \n",
        "        output_size: int,\n",
        "        start_depth: int = 64\n",
        "    ):\n",
        "        super().__init__()\n",
        "        \n",
        "        self._output_size = output_size\n",
        "        self._in_channels = in_channels\n",
        "        \n",
        "        l_in = start_depth\n",
        "        \n",
        "        self._initial_conv = nn.Sequential(\n",
        "            nn.Conv2d(in_channels, l_in, 7, stride=1, padding=3),  # Modification, remove stride, makes final image too small...\n",
        "            nn.MaxPool2d(3, 2, padding=1)\n",
        "        )\n",
        "        \n",
        "        # Output dims, kernel size, stride, amount...\n",
        "        layers = self.get_layers(start_depth)\n",
        "        \n",
        "        self._final_layer_len = layers[-1][0]\n",
        "        \n",
        "        residual_layers = []\n",
        "                \n",
        "        for l_out, kernel, stride, count, block_cls in layers:\n",
        "            for i in range(count):\n",
        "                res = block_cls(l_in, l_out, kernel, stride)\n",
        "                residual_layers.append(res)\n",
        "            l_in = l_out\n",
        "        \n",
        "        self._residual_blocks = nn.Sequential(*residual_layers)\n",
        "        \n",
        "        self._final_pooling = nn.AdaptiveAvgPool2d(1)\n",
        "        \n",
        "        self._fully_connected = nn.Sequential(\n",
        "            nn.Linear(self._final_layer_len, hidden_size),\n",
        "            nn.Linear(hidden_size, output_size)\n",
        "        )\n",
        "        self._softmax = nn.Softmax(dim=1)\n",
        "        \n",
        "    def forward(self, x: torch.tensor, run_pooling: bool=True) -> torch.tensor:\n",
        "        batch_size = x.shape[0]\n",
        "        im_shape = x.shape[1:] if(len(x.shape) == 3) else x.shape[2:]\n",
        "        \n",
        "        x = x.reshape(batch_size, self._in_channels, *im_shape)\n",
        "        x = self._initial_conv(x)\n",
        "        x = self._residual_blocks(x)\n",
        "        \n",
        "        if(run_pooling):\n",
        "            x = torch.moveaxis(self._final_pooling(x), 1, -1)\n",
        "            x = x.reshape(-1, self._final_layer_len)\n",
        "            return self._softmax(self._fully_connected(x))\n",
        "        else:\n",
        "            # No pooling: Run the classifier on every pixel in the image...\n",
        "            im_shape = x.shape[2:]\n",
        "            x = torch.moveaxis(x, 1, -1).reshape(-1, self._final_layer_len)\n",
        "            x = self._fully_connected(x)\n",
        "            return x.reshape(batch_size, *im_shape, self._output_size)\n",
        "            \n",
        "    def get_layers(self, start_depth) -> list:\n",
        "        raise NotImplementedError(\"Use one of the ResNet subclasses!\")\n",
        "        "
      ]
    },
    {
      "cell_type": "markdown",
      "id": "b707235a",
      "metadata": {
        "id": "b707235a"
      },
      "source": [
        "Now we can use this class to define several types of ResNets and regular CNNs"
      ]
    },
    {
      "cell_type": "code",
      "execution_count": null,
      "id": "b1a86f93",
      "metadata": {
        "id": "b1a86f93"
      },
      "outputs": [],
      "source": [
        "# Layers: A list of tuples which describe the following in order:\n",
        "# (CNN layer depth, kernel size, stride, number of blocks, block class)\n",
        "        \n",
        "class VanillaNet18(ResNet):\n",
        "    def get_layers(self, l_in: int) -> list:\n",
        "        return [\n",
        "            (l_in, 3, 1, 2, VanillaBlock),\n",
        "            (l_in * 2, 3, 2, 1, VanillaBlock),\n",
        "            (l_in * 2, 3, 1, 1, VanillaBlock),\n",
        "            (l_in * 4, 3, 2, 1, VanillaBlock),\n",
        "            (l_in * 4, 3, 1, 1, VanillaBlock),\n",
        "            (l_in * 8, 3, 2, 1, VanillaBlock),\n",
        "            (l_in * 8, 3, 1, 1, VanillaBlock)\n",
        "        ]\n",
        "    \n",
        "class ResNet18(ResNet):\n",
        "    def get_layers(self, l_in: int) -> list:\n",
        "        return [\n",
        "            (l_in, 3, 1, 2, ResidualBlock),\n",
        "            (l_in * 2, 3, 2, 1, ResidualBlock),\n",
        "            (l_in * 2, 3, 1, 1, ResidualBlock),\n",
        "            (l_in * 4, 3, 2, 1, ResidualBlock),\n",
        "            (l_in * 4, 3, 1, 1, ResidualBlock),\n",
        "            (l_in * 8, 3, 2, 1, ResidualBlock),\n",
        "            (l_in * 8, 3, 1, 1, ResidualBlock)\n",
        "        ]\n",
        "    \n",
        "class VanillaNet34(ResNet):\n",
        "    def get_layers(self, l_in: int) -> list:\n",
        "        return [\n",
        "            (l_in, 3, 1, 3, VanillaBlock),\n",
        "            (l_in * 2, 3, 2, 1, VanillaBlock),\n",
        "            (l_in * 2, 3, 1, 3, VanillaBlock),\n",
        "            (l_in * 4, 3, 2, 1, VanillaBlock),\n",
        "            (l_in * 4, 3, 1, 5, VanillaBlock),\n",
        "            (l_in * 8, 3, 2, 1, VanillaBlock),\n",
        "            (l_in * 8, 3, 1, 2, VanillaBlock)\n",
        "        ]\n",
        "    \n",
        "class ResNet34(ResNet):\n",
        "    def get_layers(self, l_in: int) -> list:\n",
        "        return [\n",
        "            (l_in, 3, 1, 3, ResidualBlock),\n",
        "            (l_in * 2, 3, 2, 1, ResidualBlock),\n",
        "            (l_in * 2, 3, 1, 3, ResidualBlock),\n",
        "            (l_in * 4, 3, 2, 1, ResidualBlock),\n",
        "            (l_in * 4, 3, 1, 5, ResidualBlock),\n",
        "            (l_in * 8, 3, 2, 1, ResidualBlock),\n",
        "            (l_in * 8, 3, 1, 2, ResidualBlock)\n",
        "        ]"
      ]
    },
    {
      "cell_type": "markdown",
      "id": "453e84e5",
      "metadata": {
        "id": "453e84e5"
      },
      "source": [
        "We'll define a new ResNet (or non-ResNet) below."
      ]
    },
    {
      "cell_type": "code",
      "execution_count": null,
      "id": "ac30c8d0",
      "metadata": {
        "id": "ac30c8d0",
        "colab": {
          "base_uri": "https://localhost:8080/"
        },
        "outputId": "5f1495bd-9793-4ade-bbfe-ec27fb3c0a54"
      },
      "outputs": [
        {
          "output_type": "execute_result",
          "data": {
            "text/plain": [
              "ResNet18(\n",
              "  (_initial_conv): Sequential(\n",
              "    (0): Conv2d(1, 64, kernel_size=(7, 7), stride=(1, 1), padding=(3, 3))\n",
              "    (1): MaxPool2d(kernel_size=3, stride=2, padding=1, dilation=1, ceil_mode=False)\n",
              "  )\n",
              "  (_residual_blocks): Sequential(\n",
              "    (0): ResidualBlock(\n",
              "      (_conv1): Conv2d(64, 64, kernel_size=(3, 3), stride=(1, 1), padding=(1, 1))\n",
              "      (_relu): ReLU()\n",
              "      (_conv2): Conv2d(64, 64, kernel_size=(3, 3), stride=(1, 1), padding=(1, 1))\n",
              "      (_identity): Identity()\n",
              "      (_relu2): ReLU()\n",
              "    )\n",
              "    (1): ResidualBlock(\n",
              "      (_conv1): Conv2d(64, 64, kernel_size=(3, 3), stride=(1, 1), padding=(1, 1))\n",
              "      (_relu): ReLU()\n",
              "      (_conv2): Conv2d(64, 64, kernel_size=(3, 3), stride=(1, 1), padding=(1, 1))\n",
              "      (_identity): Identity()\n",
              "      (_relu2): ReLU()\n",
              "    )\n",
              "    (2): ResidualBlock(\n",
              "      (_conv1): Conv2d(64, 128, kernel_size=(3, 3), stride=(2, 2), padding=(1, 1))\n",
              "      (_relu): ReLU()\n",
              "      (_conv2): Conv2d(128, 128, kernel_size=(3, 3), stride=(1, 1), padding=(1, 1))\n",
              "      (_identity): Conv2d(64, 128, kernel_size=(1, 1), stride=(2, 2))\n",
              "      (_relu2): ReLU()\n",
              "    )\n",
              "    (3): ResidualBlock(\n",
              "      (_conv1): Conv2d(128, 128, kernel_size=(3, 3), stride=(1, 1), padding=(1, 1))\n",
              "      (_relu): ReLU()\n",
              "      (_conv2): Conv2d(128, 128, kernel_size=(3, 3), stride=(1, 1), padding=(1, 1))\n",
              "      (_identity): Identity()\n",
              "      (_relu2): ReLU()\n",
              "    )\n",
              "    (4): ResidualBlock(\n",
              "      (_conv1): Conv2d(128, 256, kernel_size=(3, 3), stride=(2, 2), padding=(1, 1))\n",
              "      (_relu): ReLU()\n",
              "      (_conv2): Conv2d(256, 256, kernel_size=(3, 3), stride=(1, 1), padding=(1, 1))\n",
              "      (_identity): Conv2d(128, 256, kernel_size=(1, 1), stride=(2, 2))\n",
              "      (_relu2): ReLU()\n",
              "    )\n",
              "    (5): ResidualBlock(\n",
              "      (_conv1): Conv2d(256, 256, kernel_size=(3, 3), stride=(1, 1), padding=(1, 1))\n",
              "      (_relu): ReLU()\n",
              "      (_conv2): Conv2d(256, 256, kernel_size=(3, 3), stride=(1, 1), padding=(1, 1))\n",
              "      (_identity): Identity()\n",
              "      (_relu2): ReLU()\n",
              "    )\n",
              "    (6): ResidualBlock(\n",
              "      (_conv1): Conv2d(256, 512, kernel_size=(3, 3), stride=(2, 2), padding=(1, 1))\n",
              "      (_relu): ReLU()\n",
              "      (_conv2): Conv2d(512, 512, kernel_size=(3, 3), stride=(1, 1), padding=(1, 1))\n",
              "      (_identity): Conv2d(256, 512, kernel_size=(1, 1), stride=(2, 2))\n",
              "      (_relu2): ReLU()\n",
              "    )\n",
              "    (7): ResidualBlock(\n",
              "      (_conv1): Conv2d(512, 512, kernel_size=(3, 3), stride=(1, 1), padding=(1, 1))\n",
              "      (_relu): ReLU()\n",
              "      (_conv2): Conv2d(512, 512, kernel_size=(3, 3), stride=(1, 1), padding=(1, 1))\n",
              "      (_identity): Identity()\n",
              "      (_relu2): ReLU()\n",
              "    )\n",
              "  )\n",
              "  (_final_pooling): AdaptiveAvgPool2d(output_size=1)\n",
              "  (_fully_connected): Sequential(\n",
              "    (0): Linear(in_features=512, out_features=2048, bias=True)\n",
              "    (1): Linear(in_features=2048, out_features=10, bias=True)\n",
              "  )\n",
              "  (_softmax): Softmax(dim=1)\n",
              ")"
            ]
          },
          "metadata": {},
          "execution_count": 20
        }
      ],
      "source": [
        "# What values should be here?\n",
        "in_channels = 1   # Number of channels in passed data...\n",
        "output_size = 10  # Number of output nodes.\n",
        "channel_start = 64  # Number of channels to start the residual blocks with.\n",
        "hidden_layer_size = 2048   # Size of the fully connected hidden layer at the end.\n",
        "model_class = ResNet18  # The model class to use.\n",
        "\n",
        "\n",
        "res_net = model_class(in_channels, hidden_layer_size, output_size, channel_start)\n",
        "res_net.to(device)"
      ]
    },
    {
      "cell_type": "code",
      "source": [
        "vanilla_net = VanillaNet34(in_channels, hidden_layer_size, output_size, channel_start)\n",
        "vanilla_net.to(device)"
      ],
      "metadata": {
        "id": "9Y2jxts9Ksde"
      },
      "id": "9Y2jxts9Ksde",
      "execution_count": null,
      "outputs": []
    },
    {
      "cell_type": "code",
      "source": [
        "# Set up everything...\n",
        "vanilla_optimizer = optim.SGD(vanilla_net.parameters(), lr=lr2, momentum=0.9)\n",
        "loss_func2 = nn.CrossEntropyLoss()"
      ],
      "metadata": {
        "id": "YRljG0OfLHoe"
      },
      "id": "YRljG0OfLHoe",
      "execution_count": null,
      "outputs": []
    },
    {
      "cell_type": "markdown",
      "id": "56202edc",
      "metadata": {
        "id": "56202edc"
      },
      "source": [
        "Now we can train the ResNet using the same methods as the simple model above."
      ]
    },
    {
      "cell_type": "code",
      "execution_count": null,
      "id": "baa5b63b",
      "metadata": {
        "id": "baa5b63b"
      },
      "outputs": [],
      "source": [
        "# Set these! \n",
        "n_epochs2 = 10 \n",
        "lr2 = 1e-3 \n",
        "\n",
        "# Set up everything...\n",
        "optimizer2 = optim.SGD(res_net.parameters(), lr=lr2, momentum=0.9)\n",
        "loss_func2 = nn.CrossEntropyLoss()"
      ]
    },
    {
      "cell_type": "code",
      "execution_count": null,
      "id": "ae7e90c4",
      "metadata": {
        "scrolled": true,
        "id": "ae7e90c4",
        "colab": {
          "base_uri": "https://localhost:8080/"
        },
        "outputId": "cebed44f-7439-426e-d87c-96ef4aa055b6"
      },
      "outputs": [
        {
          "output_type": "stream",
          "name": "stdout",
          "text": [
            "Epoch: 1/10, Iter: 219/219, Loss: 1.4791\n",
            "Epoch 1 Train Accuracy: 97.26%\n",
            "Epoch 1 Test Accuracy: 96.69%\n",
            "\n",
            "Epoch: 2/10, Iter: 219/219, Loss: 1.4984\n",
            "Epoch 2 Train Accuracy: 97.95%\n",
            "Epoch 2 Test Accuracy: 97.52%\n",
            "\n",
            "Epoch: 3/10, Iter: 219/219, Loss: 1.4968\n",
            "Epoch 3 Train Accuracy: 97.95%\n",
            "Epoch 3 Test Accuracy: 97.42%\n",
            "\n",
            "Epoch: 4/10, Iter: 219/219, Loss: 1.4898\n",
            "Epoch 4 Train Accuracy: 97.92%\n",
            "Epoch 4 Test Accuracy: 97.36%\n",
            "\n",
            "Epoch: 5/10, Iter: 219/219, Loss: 1.4919\n",
            "Epoch 5 Train Accuracy: 98.18%\n",
            "Epoch 5 Test Accuracy: 97.57%\n",
            "\n",
            "Epoch: 6/10, Iter: 219/219, Loss: 1.4842\n",
            "Epoch 6 Train Accuracy: 98.46%\n",
            "Epoch 6 Test Accuracy: 97.82%\n",
            "\n",
            "Epoch: 7/10, Iter: 219/219, Loss: 1.4799\n",
            "Epoch 7 Train Accuracy: 98.42%\n",
            "Epoch 7 Test Accuracy: 97.88%\n",
            "\n",
            "Epoch: 8/10, Iter: 219/219, Loss: 1.4736\n",
            "Epoch 8 Train Accuracy: 98.68%\n",
            "Epoch 8 Test Accuracy: 97.98%\n",
            "\n",
            "Epoch: 9/10, Iter: 219/219, Loss: 1.4739\n",
            "Epoch 9 Train Accuracy: 98.63%\n",
            "Epoch 9 Test Accuracy: 97.91%\n",
            "\n",
            "Epoch: 10/10, Iter: 219/219, Loss: 1.4679\n",
            "Epoch 10 Train Accuracy: 98.91%\n",
            "Epoch 10 Test Accuracy: 98.29%\n",
            "\n"
          ]
        }
      ],
      "source": [
        "# Train the model...\n",
        "res_net = train_model(res_net, train_loader, test_loader, optimizer2, loss_func2, n_epochs2)"
      ]
    },
    {
      "cell_type": "code",
      "source": [
        "vanilla_net = train_model(vanilla_net, train_loader, test_loader, vanilla_optimizer, loss_func2, n_epochs2)"
      ],
      "metadata": {
        "colab": {
          "base_uri": "https://localhost:8080/"
        },
        "id": "GxFYI91SLb6m",
        "outputId": "b69196da-87d8-4863-f094-8403f61896fb"
      },
      "id": "GxFYI91SLb6m",
      "execution_count": null,
      "outputs": [
        {
          "output_type": "stream",
          "name": "stdout",
          "text": [
            "Epoch: 1/10, Iter: 219/219, Loss: 2.3025\n",
            "Epoch 1 Train Accuracy: 11.15%\n",
            "Epoch 1 Test Accuracy: 11.66%\n",
            "\n",
            "Epoch: 2/10, Iter: 219/219, Loss: 2.3027\n",
            "Epoch 2 Train Accuracy: 11.15%\n",
            "Epoch 2 Test Accuracy: 11.66%\n",
            "\n",
            "Epoch: 3/10, Iter: 219/219, Loss: 2.3020\n",
            "Epoch 3 Train Accuracy: 11.15%\n",
            "Epoch 3 Test Accuracy: 11.66%\n",
            "\n",
            "Epoch: 4/10, Iter: 219/219, Loss: 2.3011\n",
            "Epoch 4 Train Accuracy: 11.15%\n",
            "Epoch 4 Test Accuracy: 11.66%\n",
            "\n",
            "Epoch: 5/10, Iter: 219/219, Loss: 2.3011\n",
            "Epoch 5 Train Accuracy: 11.15%\n",
            "Epoch 5 Test Accuracy: 11.66%\n",
            "\n",
            "Epoch: 6/10, Iter: 219/219, Loss: 2.3038\n",
            "Epoch 6 Train Accuracy: 11.15%\n",
            "Epoch 6 Test Accuracy: 11.66%\n",
            "\n",
            "Epoch: 7/10, Iter: 219/219, Loss: 2.2996\n",
            "Epoch 7 Train Accuracy: 11.15%\n",
            "Epoch 7 Test Accuracy: 11.66%\n",
            "\n",
            "Epoch: 8/10, Iter: 219/219, Loss: 2.3038\n",
            "Epoch 8 Train Accuracy: 11.15%\n",
            "Epoch 8 Test Accuracy: 11.66%\n",
            "\n",
            "Epoch: 9/10, Iter: 219/219, Loss: 2.2998\n",
            "Epoch 9 Train Accuracy: 11.15%\n",
            "Epoch 9 Test Accuracy: 11.66%\n",
            "\n",
            "Epoch: 10/10, Iter: 219/219, Loss: 2.2999\n",
            "Epoch 10 Train Accuracy: 11.15%\n",
            "Epoch 10 Test Accuracy: 11.66%\n",
            "\n"
          ]
        }
      ]
    },
    {
      "cell_type": "markdown",
      "id": "bd416a3a",
      "metadata": {
        "id": "bd416a3a"
      },
      "source": [
        "Let's see how this model performs on augmented data."
      ]
    },
    {
      "cell_type": "code",
      "execution_count": null,
      "id": "3fee0364",
      "metadata": {
        "scrolled": true,
        "id": "3fee0364",
        "colab": {
          "base_uri": "https://localhost:8080/"
        },
        "outputId": "9dea666e-7418-40e5-fd06-45a4e1319fc1"
      },
      "outputs": [
        {
          "output_type": "stream",
          "name": "stdout",
          "text": [
            "Normal Test Accuracy: 98.99%\n",
            "Augmented Test Accuracy: 50.99%\n"
          ]
        }
      ],
      "source": [
        "print(f\"Normal Test Accuracy: {get_accuracy(res_net, test_loader) * 100:.02f}%\")\n",
        "print(f\"Augmented Test Accuracy: {get_accuracy(res_net, test_loader, img_shift_and_warp) * 100:.02f}%\")"
      ]
    },
    {
      "cell_type": "markdown",
      "id": "c1c2e40c",
      "metadata": {
        "id": "c1c2e40c"
      },
      "source": [
        "The model still performs poorly, but can we achieve better performance by training on the randomly augmented data?"
      ]
    },
    {
      "cell_type": "code",
      "execution_count": null,
      "id": "a8943d90",
      "metadata": {
        "scrolled": true,
        "id": "a8943d90",
        "colab": {
          "base_uri": "https://localhost:8080/"
        },
        "outputId": "52a9943f-b91e-46d6-a1d0-a979b9f633d0"
      },
      "outputs": [
        {
          "output_type": "stream",
          "name": "stdout",
          "text": [
            "Epoch: 1/10, Iter: 219/219, Loss: 1.7589\n",
            "Epoch 1 Train Accuracy: 72.02%\n",
            "Epoch 1 Test Accuracy: 72.22%\n",
            "\n",
            "Epoch: 2/10, Iter: 219/219, Loss: 1.8631\n",
            "Epoch 2 Train Accuracy: 84.32%\n",
            "Epoch 2 Test Accuracy: 83.49%\n",
            "\n",
            "Epoch: 3/10, Iter: 219/219, Loss: 1.5563\n",
            "Epoch 3 Train Accuracy: 89.04%\n",
            "Epoch 3 Test Accuracy: 87.66%\n",
            "\n",
            "Epoch: 4/10, Iter: 219/219, Loss: 1.6350\n",
            "Epoch 4 Train Accuracy: 82.77%\n",
            "Epoch 4 Test Accuracy: 82.88%\n",
            "\n",
            "Epoch: 5/10, Iter: 219/219, Loss: 1.5533\n",
            "Epoch 5 Train Accuracy: 89.90%\n",
            "Epoch 5 Test Accuracy: 90.51%\n",
            "\n",
            "Epoch: 6/10, Iter: 219/219, Loss: 1.5492\n",
            "Epoch 6 Train Accuracy: 92.78%\n",
            "Epoch 6 Test Accuracy: 93.00%\n",
            "\n",
            "Epoch: 7/10, Iter: 219/219, Loss: 1.5244\n",
            "Epoch 7 Train Accuracy: 93.34%\n",
            "Epoch 7 Test Accuracy: 93.17%\n",
            "\n",
            "Epoch: 8/10, Iter: 219/219, Loss: 1.5470\n",
            "Epoch 8 Train Accuracy: 92.10%\n",
            "Epoch 8 Test Accuracy: 92.04%\n",
            "\n",
            "Epoch: 9/10, Iter: 219/219, Loss: 1.5322\n",
            "Epoch 9 Train Accuracy: 94.10%\n",
            "Epoch 9 Test Accuracy: 94.54%\n",
            "\n",
            "Epoch: 10/10, Iter: 219/219, Loss: 1.5265\n",
            "Epoch 10 Train Accuracy: 94.35%\n",
            "Epoch 10 Test Accuracy: 94.29%\n",
            "\n"
          ]
        }
      ],
      "source": [
        "# Retrain using image warping...\n",
        "res_net = train_model(res_net, train_loader, test_loader, optimizer2, loss_func2, n_epochs2, img_shift_and_warp)"
      ]
    },
    {
      "cell_type": "code",
      "execution_count": null,
      "id": "8da1bdf3",
      "metadata": {
        "scrolled": true,
        "id": "8da1bdf3",
        "colab": {
          "base_uri": "https://localhost:8080/"
        },
        "outputId": "63a7542a-b5b4-4399-b11d-86b2bdc6e58e"
      },
      "outputs": [
        {
          "output_type": "stream",
          "name": "stdout",
          "text": [
            "Normal Test Accuracy: 97.14%\n",
            "Augmented Test Accuracy: 96.08%\n"
          ]
        }
      ],
      "source": [
        "print(f\"Normal Test Accuracy: {get_accuracy(res_net, test_loader) * 100:.02f}%\")\n",
        "print(f\"Augmented Test Accuracy: {get_accuracy(res_net, test_loader, img_shift_and_warp) * 100:.02f}%\")"
      ]
    },
    {
      "cell_type": "markdown",
      "id": "3d1b4e42",
      "metadata": {
        "id": "3d1b4e42"
      },
      "source": [
        "### Questions\n",
        "\n",
        "__What results do you get using the ResNet? How do these differ from the simple fully connected network, and why do you think the results differ?__\n",
        "\n",
        "__Answer:__ The ResNet results are terrific, with an augmented test accuracy of 96%. \n",
        "\n",
        "__Try experimenting with different models above (including non-residual CNNs). How do your results differ from the regular ResNet?__\n",
        "\n",
        "__Answer:__ Using the exact same hyperparameters as the ResNet with a vanilla convolutional neural net did not even result in convergence of training loss. I I suspect that without residual blocks, it is drastically more difficult to find optimal hyperparameters, a task made much simpler by Resnet's capacity to \"smooth over\" the loss landscape of the network. Conceptually, it is not terrifbly difficult to imagine how a smoother loss landscape will be less sensitive to hyperparameters such as learning rate, momentum factors, etc.  \n",
        "\n",
        "### Bonus Exercise: Localized Results\n",
        "\n",
        "You may wonder if the CNN is not only able to tell us what digit we're looking at, but also where it is located. We can test if the CNN is providing localized results by removing the final average pooling layer, and applying the fully connected layers on every pixel instead of on the average of the pixels. We'll also pass the CNN an image with multiple numbers, to see if it is capable of identifying several numbers across the image.\n",
        "\n",
        "__What results do you observe below? Is the ResNet able to provide localized results?__\n",
        "\n",
        "__Answer:__\n",
        "The network appears to appereciate the locality of features quite well! In general, the strength of a signal tends to correspond with the location of its representative digit. \n",
        "\n",
        "This characteristic is further bolstered by the observation that the filter is also activated at the location of similar looking digits; for example. the '3' filter tends to be activated by the presence of an '8'. \n",
        "\n",
        "Of course, this translational equivariance is one of the key characteristics of the success of CNNs in general.  "
      ]
    },
    {
      "cell_type": "code",
      "execution_count": null,
      "id": "cc0177ff",
      "metadata": {
        "scrolled": false,
        "id": "cc0177ff",
        "colab": {
          "base_uri": "https://localhost:8080/",
          "height": 1000
        },
        "outputId": "fa1862ec-ede2-4e7a-b029-fe3f355a9d29"
      },
      "outputs": [
        {
          "output_type": "display_data",
          "data": {
            "image/png": "[encoded data removed]",
            "text/plain": [
              "<Figure size 432x1440 with 11 Axes>"
            ]
          },
          "metadata": {
            "needs_background": "light"
          }
        }
      ],
      "source": [
        "for img, label in train_loader:\n",
        "    fig = plt.figure(figsize=(6, 20))\n",
        "    axs = fig.subplots(11, 1)\n",
        "    \n",
        "    ax1, axs = axs[0], axs[1:]\n",
        "    \n",
        "    # Take the first set of numbers...\n",
        "    num_nums = min(batch_size, 10)\n",
        "    \n",
        "    img = torch.cat([p for p in img[:num_nums]], dim=1)\n",
        "    \n",
        "    # Network doesn't apply the softmax when we disable pooling, so we apply it here.\n",
        "    # This places all the scores between 0 and 1, and emphasises the highest score. \n",
        "    single_res_grid = torch.softmax(res_net.forward(img.reshape(1, 28, num_nums * 28), False), -1)[0]\n",
        "    \n",
        "    ax1.imshow(img.cpu().detach().numpy(), cmap=\"Greys\")\n",
        "    ax1.set_title(f\"Original Image\\n(Labels: {[int(l) for l in label[:num_nums]]})\")\n",
        "    \n",
        "    for i, ax in enumerate(axs):\n",
        "        ax.set_title(f\"Heatmap of CNN Output: {i}\")\n",
        "        total_len = single_res_grid[:, :, i]\n",
        "        ax.imshow(single_res_grid[:, :, i].cpu().detach().numpy(), vmin=0, vmax=1)\n",
        "    \n",
        "    fig.tight_layout()\n",
        "    fig.show()\n",
        "    \n",
        "    break"
      ]
    },
    {
      "cell_type": "code",
      "execution_count": null,
      "id": "0fda7a3b",
      "metadata": {
        "id": "0fda7a3b"
      },
      "outputs": [],
      "source": [
        ""
      ]
    }
  ],
  "metadata": {
    "kernelspec": {
      "display_name": "Python 3 (ipykernel)",
      "language": "python",
      "name": "python3"
    },
    "language_info": {
      "codemirror_mode": {
        "name": "ipython",
        "version": 3
      },
      "file_extension": ".py",
      "mimetype": "text/x-python",
      "name": "python",
      "nbconvert_exporter": "python",
      "pygments_lexer": "ipython3",
      "version": "3.8.12"
    },
    "colab": {
      "name": "RESNET_FINAL.ipynb",
      "provenance": [],
      "collapsed_sections": []
    },
    "accelerator": "GPU"
  },
  "nbformat": 4,
  "nbformat_minor": 5
}