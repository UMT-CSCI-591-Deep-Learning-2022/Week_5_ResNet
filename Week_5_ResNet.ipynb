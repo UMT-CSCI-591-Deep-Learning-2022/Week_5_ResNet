{
 "cells": [
  {
   "cell_type": "markdown",
   "metadata": {},
   "source": [
    "# ResNets\n",
    "\n",
    "This week we discussed ResNets which are convolutional neural networks but with a residual learning framework realized by creating residual blocks via shortcut connections. In this notebook, we'll be implementing a fully connected NN, a plain CNN and a residual network and comparing the results on the MNIST dataset.\n",
    "\n",
    "We'll start off by loading the data. We'll be working with the MNIST dataset, which provides 70,000 labeled 28x28 images of handwritten digits. Our goal is to construct a classifier that recognizes handwritten digits."
   ]
  },
  {
   "cell_type": "code",
   "execution_count": 2,
   "metadata": {},
   "outputs": [
    {
     "name": "stderr",
     "output_type": "stream",
     "text": [
      "/opt/conda/lib/python3.8/site-packages/torchvision/io/image.py:11: UserWarning: Failed to load image Python extension: \n",
      "  warn(f\"Failed to load image Python extension: {e}\")\n"
     ]
    }
   ],
   "source": [
    "import torch\n",
    "from torch import nn\n",
    "import numpy as np\n",
    "from sklearn.datasets import fetch_openml\n",
    "import torch.utils.data as data_utils\n",
    "from sklearn.model_selection import train_test_split\n",
    "from torch import optim\n",
    "import matplotlib.pyplot as plt\n",
    "from torchvision import transforms\n",
    "\n",
    "%matplotlib inline\n",
    "\n",
    "# Load the dataset... This can take a while\n",
    "if(\"mnist\" not in globals()):  # Don't load the dataset twice...\n",
    "    mnist = fetch_openml('mnist_784', version=1)\n",
    "    # Convert DataFrame to 24x24 numpy arrays...\n",
    "    imgs = mnist.data.to_numpy().reshape(70000, 28, 28).astype(np.float32)\n",
    "    # Labels for the mnist data, 0-9 being the number...\n",
    "    labels = np.asarray(mnist.target).astype(int)\n",
    "    \n",
    "    imgs_train, imgs_test, labels_train, labels_test = train_test_split(\n",
    "        imgs, labels, test_size=0.2, random_state=1\n",
    "    )"
   ]
  },
  {
   "cell_type": "markdown",
   "metadata": {},
   "source": [
    "Let's plot one of the digits at random to see what they look like."
   ]
  },
  {
   "cell_type": "code",
   "execution_count": 4,
   "metadata": {},
   "outputs": [],
   "source": [
    "%matplotlib inline"
   ]
  },
  {
   "cell_type": "code",
   "execution_count": 5,
   "metadata": {},
   "outputs": [
    {
     "data": {
      "image/png": "[encoded data removed]",
      "text/plain": [
       "<Figure size 640x480 with 1 Axes>"
      ]
     },
     "metadata": {},
     "output_type": "display_data"
    }
   ],
   "source": [
    "idx = np.random.randint(0, imgs.shape[0])\n",
    "single_digit = imgs[idx]\n",
    "single_label = labels[idx]\n",
    "\n",
    "fig, ax = plt.subplots(1, 1)\n",
    "ax.set_title(f\"Digit: {single_label}\")\n",
    "ax.imshow(single_digit, cmap=\"Greys\")\n",
    "fig.show()"
   ]
  },
  {
   "cell_type": "markdown",
   "metadata": {},
   "source": [
    "We'll attempt to use a GPU to run these models. We'll check if one is available and assign it to our device."
   ]
  },
  {
   "cell_type": "code",
   "execution_count": 6,
   "metadata": {},
   "outputs": [
    {
     "name": "stdout",
     "output_type": "stream",
     "text": [
      "Running PyTorch Using: cuda\n"
     ]
    }
   ],
   "source": [
    "is_cuda = torch.cuda.is_available()\n",
    "\n",
    "if is_cuda:\n",
    "    device = torch.device(\"cuda\") # GPU\n",
    "else:\n",
    "    device = torch.device(\"cpu\") # CPU\n",
    "    \n",
    "print(f\"Running PyTorch Using: {device}\")"
   ]
  },
  {
   "cell_type": "markdown",
   "metadata": {},
   "source": [
    "Now we'll prepare our data for training and testing using Pytorch's DataLoader which will pass in samples in “minibatches” and reshuffle the data at every epoch to reduce model overfitting. "
   ]
  },
  {
   "cell_type": "code",
   "execution_count": 8,
   "metadata": {},
   "outputs": [],
   "source": [
    "# Set the batch size:\n",
    "batch_size = 32\n",
    "\n",
    "# Set up data loaders, these will be used to train and test models...\n",
    "to_device = lambda a: torch.from_numpy(a).to(device)\n",
    "\n",
    "train_loader = data_utils.DataLoader(\n",
    "    data_utils.TensorDataset(to_device(imgs_train), to_device(labels_train)),\n",
    "    batch_size = batch_size,\n",
    "    shuffle = True\n",
    ")\n",
    "\n",
    "test_loader = data_utils.DataLoader(\n",
    "    data_utils.TensorDataset(to_device(imgs_test), to_device(labels_test)),\n",
    "    batch_size = batch_size,\n",
    "    shuffle = True\n",
    ")"
   ]
  },
  {
   "cell_type": "markdown",
   "metadata": {},
   "source": [
    "## Simple Model: Fully Connected NN\n",
    "\n",
    "Now that we have our data set-up, let's start to implement our first network: a fully connected neural network."
   ]
  },
  {
   "cell_type": "code",
   "execution_count": 9,
   "metadata": {},
   "outputs": [],
   "source": [
    "class SimpleNet(nn.Module):\n",
    "    def __init__(\n",
    "        self, \n",
    "        img_w: int, \n",
    "        img_h: int, \n",
    "        hidden_layer_sizes: list, \n",
    "        class_size: int\n",
    "    ):\n",
    "        super().__init__()\n",
    "        \n",
    "        self._in_layer = nn.Linear(img_w * img_h, hidden_layer_sizes[0])\n",
    "        \n",
    "        layers = []\n",
    "        for hls1, hls2 in zip(hidden_layer_sizes[:-1], hidden_layer_sizes[1:]):\n",
    "            layers.extend([nn.Linear(hls1, hls2), nn.ReLU()])\n",
    "        \n",
    "        self._hidden_layers = nn.Sequential(*layers)\n",
    "        \n",
    "        self._out_layer = nn.Linear(hidden_layer_sizes[-1], class_size)\n",
    "        self._softmax = nn.Softmax(dim=1)\n",
    "        \n",
    "    def forward(self, x: torch.tensor) -> torch.tensor:\n",
    "        x = x.reshape(-1, img_w * img_h)\n",
    "        \n",
    "        x = self._in_layer(x)\n",
    "        x = self._hidden_layers(x)\n",
    "        return self._softmax(self._out_layer(x))"
   ]
  },
  {
   "cell_type": "markdown",
   "metadata": {},
   "source": [
    "Let's define some variables to use with our simple network."
   ]
  },
  {
   "cell_type": "code",
   "execution_count": 10,
   "metadata": {},
   "outputs": [
    {
     "data": {
      "text/plain": [
       "SimpleNet(\n",
       "  (_in_layer): Linear(in_features=784, out_features=64, bias=True)\n",
       "  (_hidden_layers): Sequential(\n",
       "    (0): Linear(in_features=64, out_features=64, bias=True)\n",
       "    (1): ReLU()\n",
       "    (2): Linear(in_features=64, out_features=64, bias=True)\n",
       "    (3): ReLU()\n",
       "  )\n",
       "  (_out_layer): Linear(in_features=64, out_features=10, bias=True)\n",
       "  (_softmax): Softmax(dim=1)\n",
       ")"
      ]
     },
     "execution_count": 10,
     "metadata": {},
     "output_type": "execute_result"
    }
   ],
   "source": [
    "# Set these!\n",
    "img_w = 28  # Height of the images\n",
    "img_h = 28  # Width of the images\n",
    "hidden_layer_sizes = [64, 64, 64]  # List of None\n",
    "class_size = 10  # Size of output\n",
    "\n",
    "simple_net = SimpleNet(img_w, img_h, hidden_layer_sizes, class_size)\n",
    "simple_net.to(device)"
   ]
  },
  {
   "cell_type": "markdown",
   "metadata": {},
   "source": [
    "We also want some functions to see how our network performs. These are defined below:"
   ]
  },
  {
   "cell_type": "code",
   "execution_count": 11,
   "metadata": {},
   "outputs": [],
   "source": [
    "# Functions for training a model...\n",
    "def train_model(\n",
    "    model, \n",
    "    train_data, \n",
    "    test_data, \n",
    "    optimizer, \n",
    "    error_func, \n",
    "    n_epochs, \n",
    "    augment_method=None, \n",
    "    print_every=300\n",
    "):\n",
    "    for epoch_i in range(1, n_epochs + 1):\n",
    "        for i, (img, label) in enumerate(train_data, 1):\n",
    "            model.zero_grad()\n",
    "            # If an augmentation method is passed, use it before passing the image to the model.\n",
    "            predicted = model.forward(img if(augment_method is None) else augment_method(img))\n",
    "            loss = error_func(predicted, label)\n",
    "            loss.backward()\n",
    "            optimizer.step()\n",
    "            \n",
    "            if((i % print_every == 0) or (i == len(train_data))):\n",
    "                print(f\"Epoch: {epoch_i}/{n_epochs}, Iter: {i}/{len(train_data)}, Loss: {loss:.04f}\")\n",
    "                \n",
    "        # Run against the test set and train set at the end of each epoch to get accuracy...\n",
    "        acc1 = get_accuracy(model, train_data, augment_method)\n",
    "        print(f\"Epoch {epoch_i} Train Accuracy: {acc1 * 100:.02f}%\")\n",
    "        acc2 = get_accuracy(model, test_data, augment_method)\n",
    "        print(f\"Epoch {epoch_i} Test Accuracy: {acc2 * 100:.02f}%\\n\")\n",
    "    \n",
    "    return model\n",
    "        \n",
    "        \n",
    "def get_accuracy(model, data, im_mod = None):\n",
    "    run = 0\n",
    "    correct = 0\n",
    "\n",
    "    for img, label in data:\n",
    "        img = im_mod(img) if(im_mod is not None) else img   # Allows us to modify the images...\n",
    "        run += len(img)\n",
    "        result = model.forward(img).cpu().detach().numpy()\n",
    "        correct += np.sum(np.argmax(result, axis=1) == label.cpu().detach().numpy())\n",
    "\n",
    "    return correct / run"
   ]
  },
  {
   "cell_type": "markdown",
   "metadata": {},
   "source": [
    "Let's set a number of epochs and a learning rate for the model and see how it does."
   ]
  },
  {
   "cell_type": "code",
   "execution_count": 12,
   "metadata": {},
   "outputs": [],
   "source": [
    "# Set these!\n",
    "n_epochs = 10\n",
    "lr = 1e-3\n",
    "\n",
    "# Set up everything...\n",
    "optimizer = optim.Adam(simple_net.parameters(), lr=lr)\n",
    "loss_func = nn.CrossEntropyLoss()"
   ]
  },
  {
   "cell_type": "code",
   "execution_count": 13,
   "metadata": {
    "scrolled": true
   },
   "outputs": [
    {
     "name": "stdout",
     "output_type": "stream",
     "text": [
      "[2022-05-13 22:16:37.247 pytorch-1-10-gpu-py-ml-g4dn-xlarge-53638dc8bb3d40f5ed7ac21aaf03:174 INFO utils.py:27] RULE_JOB_STOP_SIGNAL_FILENAME: None\n",
      "[2022-05-13 22:16:37.386 pytorch-1-10-gpu-py-ml-g4dn-xlarge-53638dc8bb3d40f5ed7ac21aaf03:174 INFO profiler_config_parser.py:111] Unable to find config at /opt/ml/input/config/profilerconfig.json. Profiler is disabled.\n"
     ]
    },
    {
     "name": "stderr",
     "output_type": "stream",
     "text": [
      "/opt/conda/lib/python3.8/site-packages/smdebug-1.0.13b20220304-py3.8.egg/smdebug/profiler/system_metrics_reader.py:63: SyntaxWarning: \"is not\" with a literal. Did you mean \"!=\"?\n",
      "/opt/conda/lib/python3.8/site-packages/smdebug-1.0.13b20220304-py3.8.egg/smdebug/profiler/system_metrics_reader.py:63: SyntaxWarning: \"is not\" with a literal. Did you mean \"!=\"?\n"
     ]
    },
    {
     "name": "stdout",
     "output_type": "stream",
     "text": [
      "Epoch: 1/10, Iter: 300/1750, Loss: 1.7445\n",
      "Epoch: 1/10, Iter: 600/1750, Loss: 1.8359\n",
      "Epoch: 1/10, Iter: 900/1750, Loss: 1.7734\n",
      "Epoch: 1/10, Iter: 1200/1750, Loss: 1.9304\n",
      "Epoch: 1/10, Iter: 1500/1750, Loss: 1.9914\n",
      "Epoch: 1/10, Iter: 1750/1750, Loss: 1.8987\n",
      "Epoch 1 Train Accuracy: 57.97%\n",
      "Epoch 1 Test Accuracy: 57.77%\n",
      "\n",
      "Epoch: 2/10, Iter: 300/1750, Loss: 1.8987\n",
      "Epoch: 2/10, Iter: 600/1750, Loss: 1.8043\n",
      "Epoch: 2/10, Iter: 900/1750, Loss: 1.7737\n",
      "Epoch: 2/10, Iter: 1200/1750, Loss: 1.9612\n",
      "Epoch: 2/10, Iter: 1500/1750, Loss: 1.8362\n",
      "Epoch: 2/10, Iter: 1750/1750, Loss: 1.9612\n",
      "Epoch 2 Train Accuracy: 55.97%\n",
      "Epoch 2 Test Accuracy: 55.99%\n",
      "\n",
      "Epoch: 3/10, Iter: 300/1750, Loss: 1.9612\n",
      "Epoch: 3/10, Iter: 600/1750, Loss: 1.8049\n",
      "Epoch: 3/10, Iter: 900/1750, Loss: 1.7737\n",
      "Epoch: 3/10, Iter: 1200/1750, Loss: 1.9924\n",
      "Epoch: 3/10, Iter: 1500/1750, Loss: 1.9924\n",
      "Epoch: 3/10, Iter: 1750/1750, Loss: 1.7112\n",
      "Epoch 3 Train Accuracy: 58.70%\n",
      "Epoch 3 Test Accuracy: 58.20%\n",
      "\n",
      "Epoch: 4/10, Iter: 300/1750, Loss: 2.1174\n",
      "Epoch: 4/10, Iter: 600/1750, Loss: 1.8049\n",
      "Epoch: 4/10, Iter: 900/1750, Loss: 2.1487\n",
      "Epoch: 4/10, Iter: 1200/1750, Loss: 1.8987\n",
      "Epoch: 4/10, Iter: 1500/1750, Loss: 1.9627\n",
      "Epoch: 4/10, Iter: 1750/1750, Loss: 1.9299\n",
      "Epoch 4 Train Accuracy: 48.98%\n",
      "Epoch 4 Test Accuracy: 48.52%\n",
      "\n",
      "Epoch: 5/10, Iter: 300/1750, Loss: 1.8362\n",
      "Epoch: 5/10, Iter: 600/1750, Loss: 1.9612\n",
      "Epoch: 5/10, Iter: 900/1750, Loss: 1.8362\n",
      "Epoch: 5/10, Iter: 1200/1750, Loss: 1.9612\n",
      "Epoch: 5/10, Iter: 1500/1750, Loss: 1.7737\n",
      "Epoch: 5/10, Iter: 1750/1750, Loss: 1.8049\n",
      "Epoch 5 Train Accuracy: 60.21%\n",
      "Epoch 5 Test Accuracy: 60.03%\n",
      "\n",
      "Epoch: 6/10, Iter: 300/1750, Loss: 1.9924\n",
      "Epoch: 6/10, Iter: 600/1750, Loss: 1.8049\n",
      "Epoch: 6/10, Iter: 900/1750, Loss: 1.7424\n",
      "Epoch: 6/10, Iter: 1200/1750, Loss: 1.8987\n",
      "Epoch: 6/10, Iter: 1500/1750, Loss: 1.9299\n",
      "Epoch: 6/10, Iter: 1750/1750, Loss: 1.7737\n",
      "Epoch 6 Train Accuracy: 62.97%\n",
      "Epoch 6 Test Accuracy: 62.49%\n",
      "\n",
      "Epoch: 7/10, Iter: 300/1750, Loss: 1.8674\n",
      "Epoch: 7/10, Iter: 600/1750, Loss: 1.9611\n",
      "Epoch: 7/10, Iter: 900/1750, Loss: 1.9612\n",
      "Epoch: 7/10, Iter: 1200/1750, Loss: 1.7737\n",
      "Epoch: 7/10, Iter: 1500/1750, Loss: 1.9924\n",
      "Epoch: 7/10, Iter: 1750/1750, Loss: 1.8674\n",
      "Epoch 7 Train Accuracy: 57.61%\n",
      "Epoch 7 Test Accuracy: 57.16%\n",
      "\n",
      "Epoch: 8/10, Iter: 300/1750, Loss: 1.9299\n",
      "Epoch: 8/10, Iter: 600/1750, Loss: 1.8674\n",
      "Epoch: 8/10, Iter: 900/1750, Loss: 2.1799\n",
      "Epoch: 8/10, Iter: 1200/1750, Loss: 1.8049\n",
      "Epoch: 8/10, Iter: 1500/1750, Loss: 1.9612\n",
      "Epoch: 8/10, Iter: 1750/1750, Loss: 1.8674\n",
      "Epoch 8 Train Accuracy: 60.06%\n",
      "Epoch 8 Test Accuracy: 59.33%\n",
      "\n",
      "Epoch: 9/10, Iter: 300/1750, Loss: 1.9612\n",
      "Epoch: 9/10, Iter: 600/1750, Loss: 1.8674\n",
      "Epoch: 9/10, Iter: 900/1750, Loss: 1.8674\n",
      "Epoch: 9/10, Iter: 1200/1750, Loss: 1.8362\n",
      "Epoch: 9/10, Iter: 1500/1750, Loss: 1.8987\n",
      "Epoch: 9/10, Iter: 1750/1750, Loss: 1.9924\n",
      "Epoch 9 Train Accuracy: 50.75%\n",
      "Epoch 9 Test Accuracy: 50.70%\n",
      "\n",
      "Epoch: 10/10, Iter: 300/1750, Loss: 2.0237\n",
      "Epoch: 10/10, Iter: 600/1750, Loss: 1.9299\n",
      "Epoch: 10/10, Iter: 900/1750, Loss: 2.0549\n",
      "Epoch: 10/10, Iter: 1200/1750, Loss: 1.8674\n",
      "Epoch: 10/10, Iter: 1500/1750, Loss: 1.9612\n",
      "Epoch: 10/10, Iter: 1750/1750, Loss: 1.8674\n",
      "Epoch 10 Train Accuracy: 51.18%\n",
      "Epoch 10 Test Accuracy: 51.35%\n",
      "\n"
     ]
    }
   ],
   "source": [
    "# Train the model...\n",
    "simple_net = train_model(simple_net, train_loader, test_loader, optimizer, loss_func, n_epochs)"
   ]
  },
  {
   "cell_type": "markdown",
   "metadata": {},
   "source": [
    "### Is this model robust to translations?\n",
    "\n",
    "Our initial results are pretty good! Let's see the accuracy when we \"shift\" the image data around a little bit..."
   ]
  },
  {
   "cell_type": "code",
   "execution_count": 14,
   "metadata": {},
   "outputs": [
    {
     "data": {
      "image/png": "[encoded data removed]",
      "text/plain": [
       "<Figure size 640x480 with 2 Axes>"
      ]
     },
     "metadata": {},
     "output_type": "display_data"
    }
   ],
   "source": [
    "img_transform = transforms.RandomAffine((-10, 10), (0.2, 0.2), (0.8, 1.2), (-5, 5))\n",
    "\n",
    "def img_shift_and_warp(img: torch.tensor) -> torch.tensor:\n",
    "    if(len(img.shape) == 2):\n",
    "        img = img.reshape(1, *img.shape)   \n",
    "    img = img_transform(img)\n",
    "    return img\n",
    "    \n",
    "\n",
    "# Show what img_shift_and_warp does to our images...\n",
    "random_idx = np.random.randint(0, len(imgs))\n",
    "\n",
    "fig, (ax1, ax2) = plt.subplots(1, 2)\n",
    "\n",
    "ax1.set_title(\"Original Image\")\n",
    "ax2.set_title(\"Shifted Image\")\n",
    "ax1.imshow(imgs[random_idx], cmap=\"Greys\")\n",
    "ax2.imshow(img_shift_and_warp(torch.from_numpy(imgs[random_idx]))[0], cmap=\"Greys\")\n",
    "\n",
    "fig.show()"
   ]
  },
  {
   "cell_type": "code",
   "execution_count": 15,
   "metadata": {},
   "outputs": [
    {
     "name": "stdout",
     "output_type": "stream",
     "text": [
      "Normal Test Accuracy: 51.35%\n",
      "Augmented Test Accuracy: 16.74%\n"
     ]
    }
   ],
   "source": [
    "print(f\"Normal Test Accuracy: {get_accuracy(simple_net, test_loader) * 100:.02f}%\")\n",
    "print(f\"Augmented Test Accuracy: {get_accuracy(simple_net, test_loader, img_shift_and_warp) * 100:.02f}%\")"
   ]
  },
  {
   "cell_type": "markdown",
   "metadata": {},
   "source": [
    "Yikes! Shifting around the numbers destroys the accuracy of our simple fully connected network destroys its performance. Can we fix this through data augmentation?"
   ]
  },
  {
   "cell_type": "code",
   "execution_count": 16,
   "metadata": {
    "scrolled": true
   },
   "outputs": [
    {
     "name": "stdout",
     "output_type": "stream",
     "text": [
      "Epoch: 1/10, Iter: 300/1750, Loss: 2.2424\n",
      "Epoch: 1/10, Iter: 600/1750, Loss: 2.3674\n",
      "Epoch: 1/10, Iter: 900/1750, Loss: 1.9924\n",
      "Epoch: 1/10, Iter: 1200/1750, Loss: 2.3052\n",
      "Epoch: 1/10, Iter: 1500/1750, Loss: 2.3049\n",
      "Epoch: 1/10, Iter: 1750/1750, Loss: 2.4299\n",
      "Epoch 1 Train Accuracy: 16.02%\n",
      "Epoch 1 Test Accuracy: 16.32%\n",
      "\n",
      "Epoch: 2/10, Iter: 300/1750, Loss: 2.3674\n",
      "Epoch: 2/10, Iter: 600/1750, Loss: 2.1487\n",
      "Epoch: 2/10, Iter: 900/1750, Loss: 2.3362\n",
      "Epoch: 2/10, Iter: 1200/1750, Loss: 2.2112\n",
      "Epoch: 2/10, Iter: 1500/1750, Loss: 2.3362\n",
      "Epoch: 2/10, Iter: 1750/1750, Loss: 2.4611\n",
      "Epoch 2 Train Accuracy: 14.73%\n",
      "Epoch 2 Test Accuracy: 14.38%\n",
      "\n",
      "Epoch: 3/10, Iter: 300/1750, Loss: 2.3049\n",
      "Epoch: 3/10, Iter: 600/1750, Loss: 2.3987\n",
      "Epoch: 3/10, Iter: 900/1750, Loss: 2.1487\n",
      "Epoch: 3/10, Iter: 1200/1750, Loss: 2.3987\n",
      "Epoch: 3/10, Iter: 1500/1750, Loss: 2.2737\n",
      "Epoch: 3/10, Iter: 1750/1750, Loss: 2.3987\n",
      "Epoch 3 Train Accuracy: 14.81%\n",
      "Epoch 3 Test Accuracy: 15.25%\n",
      "\n",
      "Epoch: 4/10, Iter: 300/1750, Loss: 2.3049\n",
      "Epoch: 4/10, Iter: 600/1750, Loss: 2.2737\n",
      "Epoch: 4/10, Iter: 900/1750, Loss: 2.3049\n",
      "Epoch: 4/10, Iter: 1200/1750, Loss: 2.4612\n",
      "Epoch: 4/10, Iter: 1500/1750, Loss: 2.3049\n",
      "Epoch: 4/10, Iter: 1750/1750, Loss: 2.2737\n",
      "Epoch 4 Train Accuracy: 15.93%\n",
      "Epoch 4 Test Accuracy: 16.04%\n",
      "\n",
      "Epoch: 5/10, Iter: 300/1750, Loss: 2.3674\n",
      "Epoch: 5/10, Iter: 600/1750, Loss: 2.3674\n",
      "Epoch: 5/10, Iter: 900/1750, Loss: 2.3049\n",
      "Epoch: 5/10, Iter: 1200/1750, Loss: 2.3987\n",
      "Epoch: 5/10, Iter: 1500/1750, Loss: 2.3987\n",
      "Epoch: 5/10, Iter: 1750/1750, Loss: 2.4299\n",
      "Epoch 5 Train Accuracy: 15.85%\n",
      "Epoch 5 Test Accuracy: 16.03%\n",
      "\n",
      "Epoch: 6/10, Iter: 300/1750, Loss: 2.3674\n",
      "Epoch: 6/10, Iter: 600/1750, Loss: 2.1799\n",
      "Epoch: 6/10, Iter: 900/1750, Loss: 2.3362\n",
      "Epoch: 6/10, Iter: 1200/1750, Loss: 2.3674\n",
      "Epoch: 6/10, Iter: 1500/1750, Loss: 2.2111\n",
      "Epoch: 6/10, Iter: 1750/1750, Loss: 2.3674\n",
      "Epoch 6 Train Accuracy: 16.66%\n",
      "Epoch 6 Test Accuracy: 17.43%\n",
      "\n",
      "Epoch: 7/10, Iter: 300/1750, Loss: 2.2112\n",
      "Epoch: 7/10, Iter: 600/1750, Loss: 2.3987\n",
      "Epoch: 7/10, Iter: 900/1750, Loss: 2.3362\n",
      "Epoch: 7/10, Iter: 1200/1750, Loss: 2.3674\n",
      "Epoch: 7/10, Iter: 1500/1750, Loss: 2.3987\n",
      "Epoch: 7/10, Iter: 1750/1750, Loss: 2.2737\n",
      "Epoch 7 Train Accuracy: 16.40%\n",
      "Epoch 7 Test Accuracy: 16.73%\n",
      "\n",
      "Epoch: 8/10, Iter: 300/1750, Loss: 2.3674\n",
      "Epoch: 8/10, Iter: 600/1750, Loss: 2.2424\n",
      "Epoch: 8/10, Iter: 900/1750, Loss: 2.3362\n",
      "Epoch: 8/10, Iter: 1200/1750, Loss: 2.3987\n",
      "Epoch: 8/10, Iter: 1500/1750, Loss: 2.2737\n",
      "Epoch: 8/10, Iter: 1750/1750, Loss: 2.2112\n",
      "Epoch 8 Train Accuracy: 13.38%\n",
      "Epoch 8 Test Accuracy: 13.69%\n",
      "\n",
      "Epoch: 9/10, Iter: 300/1750, Loss: 2.3049\n",
      "Epoch: 9/10, Iter: 600/1750, Loss: 2.2737\n",
      "Epoch: 9/10, Iter: 900/1750, Loss: 2.3674\n",
      "Epoch: 9/10, Iter: 1200/1750, Loss: 2.3362\n",
      "Epoch: 9/10, Iter: 1500/1750, Loss: 2.3362\n",
      "Epoch: 9/10, Iter: 1750/1750, Loss: 2.3674\n",
      "Epoch 9 Train Accuracy: 11.42%\n",
      "Epoch 9 Test Accuracy: 11.80%\n",
      "\n",
      "Epoch: 10/10, Iter: 300/1750, Loss: 2.2424\n",
      "Epoch: 10/10, Iter: 600/1750, Loss: 2.4299\n",
      "Epoch: 10/10, Iter: 900/1750, Loss: 2.3987\n",
      "Epoch: 10/10, Iter: 1200/1750, Loss: 2.4299\n",
      "Epoch: 10/10, Iter: 1500/1750, Loss: 2.4299\n",
      "Epoch: 10/10, Iter: 1750/1750, Loss: 2.3362\n",
      "Epoch 10 Train Accuracy: 12.45%\n",
      "Epoch 10 Test Accuracy: 12.98%\n",
      "\n"
     ]
    }
   ],
   "source": [
    "# Train the model...\n",
    "simple_net = train_model(simple_net, train_loader, test_loader, optimizer, loss_func, n_epochs, img_shift_and_warp)"
   ]
  },
  {
   "cell_type": "code",
   "execution_count": 17,
   "metadata": {
    "scrolled": true
   },
   "outputs": [
    {
     "name": "stdout",
     "output_type": "stream",
     "text": [
      "Normal Test Accuracy: 19.39%\n",
      "Augmented Test Accuracy: 12.69%\n"
     ]
    }
   ],
   "source": [
    "print(f\"Normal Test Accuracy: {get_accuracy(simple_net, test_loader) * 100:.02f}%\")\n",
    "print(f\"Augmented Test Accuracy: {get_accuracy(simple_net, test_loader, img_shift_and_warp) * 100:.02f}%\")"
   ]
  },
  {
   "cell_type": "markdown",
   "metadata": {},
   "source": [
    "Even after training the network using augmented images, we can see that a fully connected network still performs worse on transformed images. Even more interesting, is that the network now performs more poorly on the original data.\n",
    "\n",
    "### Question\n",
    "\n",
    "__Why do you think the model performs more poorly on the original data when trained on augmented data?__"
   ]
  },
  {
   "cell_type": "markdown",
   "metadata": {},
   "source": [
    "My intuition is that taking away the locality of features (that the \"hump\" of a 7 could occur anywhere in an image, as opposed to one general area) imposes a much greater challenge on the model "
   ]
  },
  {
   "attachments": {
    "residual_block.png": {
     "image/png": "[encoded data removed]"
    }
   },
   "cell_type": "markdown",
   "metadata": {},
   "source": [
    "# Using a ResNet\n",
    "\n",
    "Now that we've looked at a fully connected network and a, let's see if we can achieve even better results with a residual network (ResNet).\n",
    "\n",
    "We'll start by defining a residual block. Let's do a quick recap on what this is.\n",
    "\n",
    "![residual_block.png](attachment:residual_block.png)\n",
    "\n",
    "Here we let $H(\\textbf{x})$ be the output of a few stacked nonlinear layers where $\\textbf{x}$ is the input to the first of these layers. \n",
    "We'll let these stacked layers fit a residual mapping (the difference between the input and output) with $F(\\textbf{x}) = H(\\textbf{x}) - \\textbf{x}$.\n",
    "Our original function now becomes $H(\\textbf{x}) = F(\\textbf{x}) + \\textbf{x}$. We expect this to be easier for the solvers to optimize as opposed to the original unreferenced mapping.\n",
    "\n",
    "A residual block can be formally defined with the equation\n",
    "$\\textbf{y} = F(\\textbf{x}, \\{W_{i}\\}) + W_s\\textbf{x}$ where $\\textbf{x}, \\textbf{y}$ are the input and output vectors and $F(\\textbf{x}, \\{W_{i}\\})$ is the residual mapping to be learned.\n",
    "For the example block shown here (what we'll be implementing) with two weight layers and a ReLU function, we let $F = W_2 \\sigma (W_1\\textbf{x})$\n",
    "\n",
    "The main thing to takeaway from residual blocks (and what makes ResNets differ from plain CNNs) is the use of the identity shortcut connection which allows the input to be added to the output of the stacked layers."
   ]
  },
  {
   "cell_type": "code",
   "execution_count": 18,
   "metadata": {},
   "outputs": [],
   "source": [
    "class ResidualBlock(nn.Module):\n",
    "    \"\"\"\n",
    "    A single residual block.\n",
    "    \"\"\"\n",
    "    def __init__(self, in_channels: int, out_channels: int, kernel_size: int, stride: int = 1):\n",
    "        super().__init__()\n",
    "        \n",
    "        if(kernel_size % 2 == 0):\n",
    "            raise ValueError(\"Kernel size must be odd!\")\n",
    "            \n",
    "        self._in_channels = in_channels\n",
    "        self._out_channels = out_channels\n",
    "        \n",
    "        self._conv1 = nn.Conv2d(in_channels, out_channels, kernel_size, stride, padding=kernel_size // 2)\n",
    "        self._relu = nn.ReLU()\n",
    "        self._conv2 = nn.Conv2d(out_channels, out_channels, kernel_size, 1, padding=kernel_size // 2)\n",
    "        \n",
    "        if(stride == 1):\n",
    "            self._identity = nn.Identity()\n",
    "        else:\n",
    "            # As paper suggests use convolution with 1x1 kernel and stride of 2 to linearly downsample the data\n",
    "            self._identity = nn.Conv2d(in_channels, out_channels, (1, 1), 2)\n",
    "        \n",
    "        self._relu2 = nn.ReLU()\n",
    "    \n",
    "    def forward(self, x: torch.tensor) -> torch.tensor:\n",
    "        # Non-Linear part...\n",
    "        x_nonlinear = self._conv2(self._relu(self._conv1(x)))\n",
    "        # Linear part...\n",
    "        x_linear = self._identity(x)\n",
    "        return self._relu2(x_nonlinear + x_linear)\n",
    "\n",
    "    \n",
    "class VanillaBlock(nn.Module):\n",
    "    \"\"\"\n",
    "    A single vanilla block (no skip connections).\n",
    "    \"\"\"\n",
    "    def __init__(self, in_channels: int, out_channels: int, kernel_size: int, stride: int = 1):\n",
    "        super().__init__()\n",
    "        \n",
    "        if(kernel_size % 2 == 0):\n",
    "            raise ValueError(\"Kernel size must be odd!\")\n",
    "            \n",
    "        self._in_channels = in_channels\n",
    "        self._out_channels = out_channels\n",
    "        \n",
    "        self._conv1 = nn.Conv2d(in_channels, out_channels, kernel_size, stride, padding=kernel_size // 2)\n",
    "        self._relu = nn.ReLU()\n",
    "        self._conv2 = nn.Conv2d(out_channels, out_channels, kernel_size, 1, padding=kernel_size // 2)\n",
    "        self._relu2 = nn.ReLU()\n",
    "    \n",
    "    def forward(self, x: torch.tensor) -> torch.tensor:\n",
    "        x_nonlinear = self._conv2(self._relu(self._conv1(x)))     \n",
    "        return self._relu2(x_nonlinear)\n"
   ]
  },
  {
   "cell_type": "markdown",
   "metadata": {},
   "source": [
    "Now, we'll define a network capable of taking a layer description list and building a ResNet style CNN out of this list."
   ]
  },
  {
   "cell_type": "code",
   "execution_count": 19,
   "metadata": {},
   "outputs": [],
   "source": [
    "class ResNet(nn.Module):\n",
    "    def __init__(self,\n",
    "        in_channels: int,\n",
    "        hidden_size: int, \n",
    "        output_size: int,\n",
    "        start_depth: int = 64\n",
    "    ):\n",
    "        super().__init__()\n",
    "        \n",
    "        self._output_size = output_size\n",
    "        self._in_channels = in_channels\n",
    "        \n",
    "        l_in = start_depth\n",
    "        \n",
    "        self._initial_conv = nn.Sequential(\n",
    "            nn.Conv2d(in_channels, l_in, 7, stride=1, padding=3),  # Modification, remove stride, makes final image too small...\n",
    "            nn.MaxPool2d(3, 2, padding=1)\n",
    "        )\n",
    "        \n",
    "        # Output dims, kernel size, stride, amount...\n",
    "        layers = self.get_layers(start_depth)\n",
    "        \n",
    "        self._final_layer_len = layers[-1][0]\n",
    "        \n",
    "        residual_layers = []\n",
    "                \n",
    "        for l_out, kernel, stride, count, block_cls in layers:\n",
    "            for i in range(count):\n",
    "                res = block_cls(l_in, l_out, kernel, stride)\n",
    "                residual_layers.append(res)\n",
    "            l_in = l_out\n",
    "        \n",
    "        self._residual_blocks = nn.Sequential(*residual_layers)\n",
    "        \n",
    "        self._final_pooling = nn.AdaptiveAvgPool2d(1)\n",
    "        \n",
    "        self._fully_connected = nn.Sequential(\n",
    "            nn.Linear(self._final_layer_len, hidden_size),\n",
    "            nn.Linear(hidden_size, output_size)\n",
    "        )\n",
    "        self._softmax = nn.Softmax(dim=1)\n",
    "        \n",
    "    def forward(self, x: torch.tensor, run_pooling: bool=True) -> torch.tensor:\n",
    "        batch_size = x.shape[0]\n",
    "        im_shape = x.shape[1:] if(len(x.shape) == 3) else x.shape[2:]\n",
    "        \n",
    "        x = x.reshape(batch_size, self._in_channels, *im_shape)\n",
    "        x = self._initial_conv(x)\n",
    "        x = self._residual_blocks(x)\n",
    "        \n",
    "        if(run_pooling):\n",
    "            x = torch.moveaxis(self._final_pooling(x), 1, -1)\n",
    "            x = x.reshape(-1, self._final_layer_len)\n",
    "            return self._softmax(self._fully_connected(x))\n",
    "        else:\n",
    "            # No pooling: Run the classifier on every pixel in the image...\n",
    "            im_shape = x.shape[2:]\n",
    "            x = torch.moveaxis(x, 1, -1).reshape(-1, self._final_layer_len)\n",
    "            x = self._fully_connected(x)\n",
    "            return x.reshape(batch_size, *im_shape, self._output_size)\n",
    "            \n",
    "    def get_layers(self, start_depth) -> list:\n",
    "        raise NotImplementedError(\"Use one of the ResNet subclasses!\")\n",
    "        "
   ]
  },
  {
   "cell_type": "markdown",
   "metadata": {},
   "source": [
    "Now we can use this class to define several types of ResNets and regular CNNs"
   ]
  },
  {
   "cell_type": "code",
   "execution_count": 20,
   "metadata": {},
   "outputs": [],
   "source": [
    "# Layers: A list of tuples which describe the following in order:\n",
    "# (CNN layer depth, kernel size, stride, number of blocks, block class)\n",
    "        \n",
    "class VanillaNet18(ResNet):\n",
    "    def get_layers(self, l_in: int) -> list:\n",
    "        return [\n",
    "            (l_in, 3, 1, 2, VanillaBlock),\n",
    "            (l_in * 2, 3, 2, 1, VanillaBlock),\n",
    "            (l_in * 2, 3, 1, 1, VanillaBlock),\n",
    "            (l_in * 4, 3, 2, 1, VanillaBlock),\n",
    "            (l_in * 4, 3, 1, 1, VanillaBlock),\n",
    "            (l_in * 8, 3, 2, 1, VanillaBlock),\n",
    "            (l_in * 8, 3, 1, 1, VanillaBlock)\n",
    "        ]\n",
    "    \n",
    "class ResNet18(ResNet):\n",
    "    def get_layers(self, l_in: int) -> list:\n",
    "        return [\n",
    "            (l_in, 3, 1, 2, ResidualBlock),\n",
    "            (l_in * 2, 3, 2, 1, ResidualBlock),\n",
    "            (l_in * 2, 3, 1, 1, ResidualBlock),\n",
    "            (l_in * 4, 3, 2, 1, ResidualBlock),\n",
    "            (l_in * 4, 3, 1, 1, ResidualBlock),\n",
    "            (l_in * 8, 3, 2, 1, ResidualBlock),\n",
    "            (l_in * 8, 3, 1, 1, ResidualBlock)\n",
    "        ]\n",
    "    \n",
    "class VanillaNet34(ResNet):\n",
    "    def get_layers(self, l_in: int) -> list:\n",
    "        return [\n",
    "            (l_in, 3, 1, 3, VanillaBlock),\n",
    "            (l_in * 2, 3, 2, 1, VanillaBlock),\n",
    "            (l_in * 2, 3, 1, 3, VanillaBlock),\n",
    "            (l_in * 4, 3, 2, 1, VanillaBlock),\n",
    "            (l_in * 4, 3, 1, 5, VanillaBlock),\n",
    "            (l_in * 8, 3, 2, 1, VanillaBlock),\n",
    "            (l_in * 8, 3, 1, 2, VanillaBlock)\n",
    "        ]\n",
    "    \n",
    "class ResNet34(ResNet):\n",
    "    def get_layers(self, l_in: int) -> list:\n",
    "        return [\n",
    "            (l_in, 3, 1, 3, ResidualBlock),\n",
    "            (l_in * 2, 3, 2, 1, ResidualBlock),\n",
    "            (l_in * 2, 3, 1, 3, ResidualBlock),\n",
    "            (l_in * 4, 3, 2, 1, ResidualBlock),\n",
    "            (l_in * 4, 3, 1, 5, ResidualBlock),\n",
    "            (l_in * 8, 3, 2, 1, ResidualBlock),\n",
    "            (l_in * 8, 3, 1, 2, ResidualBlock)\n",
    "        ]"
   ]
  },
  {
   "cell_type": "markdown",
   "metadata": {},
   "source": [
    "We'll define a new ResNet (or non-ResNet) below."
   ]
  },
  {
   "cell_type": "code",
   "execution_count": 24,
   "metadata": {},
   "outputs": [
    {
     "data": {
      "text/plain": [
       "ResNet18(\n",
       "  (_initial_conv): Sequential(\n",
       "    (0): Conv2d(1, 1, kernel_size=(7, 7), stride=(1, 1), padding=(3, 3))\n",
       "    (1): MaxPool2d(kernel_size=3, stride=2, padding=1, dilation=1, ceil_mode=False)\n",
       "  )\n",
       "  (_residual_blocks): Sequential(\n",
       "    (0): ResidualBlock(\n",
       "      (_conv1): Conv2d(1, 1, kernel_size=(3, 3), stride=(1, 1), padding=(1, 1))\n",
       "      (_relu): ReLU()\n",
       "      (_conv2): Conv2d(1, 1, kernel_size=(3, 3), stride=(1, 1), padding=(1, 1))\n",
       "      (_identity): Identity()\n",
       "      (_relu2): ReLU()\n",
       "    )\n",
       "    (1): ResidualBlock(\n",
       "      (_conv1): Conv2d(1, 1, kernel_size=(3, 3), stride=(1, 1), padding=(1, 1))\n",
       "      (_relu): ReLU()\n",
       "      (_conv2): Conv2d(1, 1, kernel_size=(3, 3), stride=(1, 1), padding=(1, 1))\n",
       "      (_identity): Identity()\n",
       "      (_relu2): ReLU()\n",
       "    )\n",
       "    (2): ResidualBlock(\n",
       "      (_conv1): Conv2d(1, 2, kernel_size=(3, 3), stride=(2, 2), padding=(1, 1))\n",
       "      (_relu): ReLU()\n",
       "      (_conv2): Conv2d(2, 2, kernel_size=(3, 3), stride=(1, 1), padding=(1, 1))\n",
       "      (_identity): Conv2d(1, 2, kernel_size=(1, 1), stride=(2, 2))\n",
       "      (_relu2): ReLU()\n",
       "    )\n",
       "    (3): ResidualBlock(\n",
       "      (_conv1): Conv2d(2, 2, kernel_size=(3, 3), stride=(1, 1), padding=(1, 1))\n",
       "      (_relu): ReLU()\n",
       "      (_conv2): Conv2d(2, 2, kernel_size=(3, 3), stride=(1, 1), padding=(1, 1))\n",
       "      (_identity): Identity()\n",
       "      (_relu2): ReLU()\n",
       "    )\n",
       "    (4): ResidualBlock(\n",
       "      (_conv1): Conv2d(2, 4, kernel_size=(3, 3), stride=(2, 2), padding=(1, 1))\n",
       "      (_relu): ReLU()\n",
       "      (_conv2): Conv2d(4, 4, kernel_size=(3, 3), stride=(1, 1), padding=(1, 1))\n",
       "      (_identity): Conv2d(2, 4, kernel_size=(1, 1), stride=(2, 2))\n",
       "      (_relu2): ReLU()\n",
       "    )\n",
       "    (5): ResidualBlock(\n",
       "      (_conv1): Conv2d(4, 4, kernel_size=(3, 3), stride=(1, 1), padding=(1, 1))\n",
       "      (_relu): ReLU()\n",
       "      (_conv2): Conv2d(4, 4, kernel_size=(3, 3), stride=(1, 1), padding=(1, 1))\n",
       "      (_identity): Identity()\n",
       "      (_relu2): ReLU()\n",
       "    )\n",
       "    (6): ResidualBlock(\n",
       "      (_conv1): Conv2d(4, 8, kernel_size=(3, 3), stride=(2, 2), padding=(1, 1))\n",
       "      (_relu): ReLU()\n",
       "      (_conv2): Conv2d(8, 8, kernel_size=(3, 3), stride=(1, 1), padding=(1, 1))\n",
       "      (_identity): Conv2d(4, 8, kernel_size=(1, 1), stride=(2, 2))\n",
       "      (_relu2): ReLU()\n",
       "    )\n",
       "    (7): ResidualBlock(\n",
       "      (_conv1): Conv2d(8, 8, kernel_size=(3, 3), stride=(1, 1), padding=(1, 1))\n",
       "      (_relu): ReLU()\n",
       "      (_conv2): Conv2d(8, 8, kernel_size=(3, 3), stride=(1, 1), padding=(1, 1))\n",
       "      (_identity): Identity()\n",
       "      (_relu2): ReLU()\n",
       "    )\n",
       "  )\n",
       "  (_final_pooling): AdaptiveAvgPool2d(output_size=1)\n",
       "  (_fully_connected): Sequential(\n",
       "    (0): Linear(in_features=8, out_features=64, bias=True)\n",
       "    (1): Linear(in_features=64, out_features=10, bias=True)\n",
       "  )\n",
       "  (_softmax): Softmax(dim=1)\n",
       ")"
      ]
     },
     "execution_count": 24,
     "metadata": {},
     "output_type": "execute_result"
    }
   ],
   "source": [
    "# What values should be here?\n",
    "in_channels = 1  # Number of channels in passed data...\n",
    "output_size = 10  # Number of output nodes.\n",
    "channel_start = 1  # Number of channels to start the residual blocks with.\n",
    "hidden_layer_size = 64  # Size of the fully connected hidden layer at the end.\n",
    "model_class = ResNet18  # The model class to use.\n",
    "\n",
    "\n",
    "res_net = model_class(in_channels, hidden_layer_size, output_size, channel_start)\n",
    "res_net.to(device)"
   ]
  },
  {
   "cell_type": "markdown",
   "metadata": {},
   "source": [
    "Now we can train the ResNet using the same methods as the simple model above."
   ]
  },
  {
   "cell_type": "code",
   "execution_count": 25,
   "metadata": {},
   "outputs": [],
   "source": [
    "# Set these! \n",
    "n_epochs2 = 10\n",
    "lr2 = 1e-3\n",
    "\n",
    "# Set up everything...\n",
    "optimizer2 = optim.SGD(res_net.parameters(), lr=lr2, momentum=0.9)\n",
    "loss_func2 = nn.CrossEntropyLoss()"
   ]
  },
  {
   "cell_type": "code",
   "execution_count": 26,
   "metadata": {
    "scrolled": true
   },
   "outputs": [
    {
     "name": "stdout",
     "output_type": "stream",
     "text": [
      "Epoch: 1/10, Iter: 300/1750, Loss: 2.3048\n",
      "Epoch: 1/10, Iter: 600/1750, Loss: 2.3002\n",
      "Epoch: 1/10, Iter: 900/1750, Loss: 2.3023\n",
      "Epoch: 1/10, Iter: 1200/1750, Loss: 2.3053\n",
      "Epoch: 1/10, Iter: 1500/1750, Loss: 2.2985\n",
      "Epoch: 1/10, Iter: 1750/1750, Loss: 2.2925\n",
      "Epoch 1 Train Accuracy: 10.19%\n",
      "Epoch 1 Test Accuracy: 10.41%\n",
      "\n",
      "Epoch: 2/10, Iter: 300/1750, Loss: 2.2633\n",
      "Epoch: 2/10, Iter: 600/1750, Loss: 2.2279\n",
      "Epoch: 2/10, Iter: 900/1750, Loss: 2.1361\n",
      "Epoch: 2/10, Iter: 1200/1750, Loss: 1.9152\n",
      "Epoch: 2/10, Iter: 1500/1750, Loss: 1.9548\n",
      "Epoch: 2/10, Iter: 1750/1750, Loss: 1.8416\n",
      "Epoch 2 Train Accuracy: 55.31%\n",
      "Epoch 2 Test Accuracy: 55.32%\n",
      "\n",
      "Epoch: 3/10, Iter: 300/1750, Loss: 1.9387\n",
      "Epoch: 3/10, Iter: 600/1750, Loss: 1.9257\n",
      "Epoch: 3/10, Iter: 900/1750, Loss: 1.8336\n",
      "Epoch: 3/10, Iter: 1200/1750, Loss: 1.8090\n",
      "Epoch: 3/10, Iter: 1500/1750, Loss: 1.9576\n",
      "Epoch: 3/10, Iter: 1750/1750, Loss: 1.8276\n",
      "Epoch 3 Train Accuracy: 65.87%\n",
      "Epoch 3 Test Accuracy: 65.56%\n",
      "\n",
      "Epoch: 4/10, Iter: 300/1750, Loss: 1.9209\n",
      "Epoch: 4/10, Iter: 600/1750, Loss: 1.7299\n",
      "Epoch: 4/10, Iter: 900/1750, Loss: 1.7120\n",
      "Epoch: 4/10, Iter: 1200/1750, Loss: 1.8511\n",
      "Epoch: 4/10, Iter: 1500/1750, Loss: 1.8600\n",
      "Epoch: 4/10, Iter: 1750/1750, Loss: 1.8188\n",
      "Epoch 4 Train Accuracy: 67.19%\n",
      "Epoch 4 Test Accuracy: 66.97%\n",
      "\n",
      "Epoch: 5/10, Iter: 300/1750, Loss: 1.7386\n",
      "Epoch: 5/10, Iter: 600/1750, Loss: 1.6797\n",
      "Epoch: 5/10, Iter: 900/1750, Loss: 1.7223\n",
      "Epoch: 5/10, Iter: 1200/1750, Loss: 1.8459\n",
      "Epoch: 5/10, Iter: 1500/1750, Loss: 1.7117\n",
      "Epoch: 5/10, Iter: 1750/1750, Loss: 1.7418\n",
      "Epoch 5 Train Accuracy: 67.76%\n",
      "Epoch 5 Test Accuracy: 67.49%\n",
      "\n",
      "Epoch: 6/10, Iter: 300/1750, Loss: 1.8974\n",
      "Epoch: 6/10, Iter: 600/1750, Loss: 1.7668\n",
      "Epoch: 6/10, Iter: 900/1750, Loss: 1.7998\n",
      "Epoch: 6/10, Iter: 1200/1750, Loss: 1.6618\n",
      "Epoch: 6/10, Iter: 1500/1750, Loss: 1.8647\n",
      "Epoch: 6/10, Iter: 1750/1750, Loss: 1.9651\n",
      "Epoch 6 Train Accuracy: 67.43%\n",
      "Epoch 6 Test Accuracy: 67.29%\n",
      "\n",
      "Epoch: 7/10, Iter: 300/1750, Loss: 1.6544\n",
      "Epoch: 7/10, Iter: 600/1750, Loss: 1.9733\n",
      "Epoch: 7/10, Iter: 900/1750, Loss: 1.7170\n",
      "Epoch: 7/10, Iter: 1200/1750, Loss: 1.7051\n",
      "Epoch: 7/10, Iter: 1500/1750, Loss: 1.6646\n",
      "Epoch: 7/10, Iter: 1750/1750, Loss: 1.8291\n",
      "Epoch 7 Train Accuracy: 67.35%\n",
      "Epoch 7 Test Accuracy: 67.09%\n",
      "\n",
      "Epoch: 8/10, Iter: 300/1750, Loss: 1.7891\n",
      "Epoch: 8/10, Iter: 600/1750, Loss: 1.7150\n",
      "Epoch: 8/10, Iter: 900/1750, Loss: 1.7709\n",
      "Epoch: 8/10, Iter: 1200/1750, Loss: 1.7108\n",
      "Epoch: 8/10, Iter: 1500/1750, Loss: 2.0226\n",
      "Epoch: 8/10, Iter: 1750/1750, Loss: 1.8095\n",
      "Epoch 8 Train Accuracy: 67.71%\n",
      "Epoch 8 Test Accuracy: 67.46%\n",
      "\n",
      "Epoch: 9/10, Iter: 300/1750, Loss: 1.7728\n",
      "Epoch: 9/10, Iter: 600/1750, Loss: 1.7102\n",
      "Epoch: 9/10, Iter: 900/1750, Loss: 1.8508\n",
      "Epoch: 9/10, Iter: 1200/1750, Loss: 1.9257\n",
      "Epoch: 9/10, Iter: 1500/1750, Loss: 1.7728\n",
      "Epoch: 9/10, Iter: 1750/1750, Loss: 1.7422\n",
      "Epoch 9 Train Accuracy: 68.43%\n",
      "Epoch 9 Test Accuracy: 68.26%\n",
      "\n",
      "Epoch: 10/10, Iter: 300/1750, Loss: 1.6800\n",
      "Epoch: 10/10, Iter: 600/1750, Loss: 1.7733\n",
      "Epoch: 10/10, Iter: 900/1750, Loss: 1.7452\n",
      "Epoch: 10/10, Iter: 1200/1750, Loss: 1.8658\n",
      "Epoch: 10/10, Iter: 1500/1750, Loss: 1.7415\n",
      "Epoch: 10/10, Iter: 1750/1750, Loss: 1.6799\n",
      "Epoch 10 Train Accuracy: 68.45%\n",
      "Epoch 10 Test Accuracy: 68.42%\n",
      "\n"
     ]
    }
   ],
   "source": [
    "# Train the model...\n",
    "res_net = train_model(res_net, train_loader, test_loader, optimizer2, loss_func2, n_epochs2)"
   ]
  },
  {
   "cell_type": "markdown",
   "metadata": {},
   "source": [
    "Let's see how this model performs on augmented data."
   ]
  },
  {
   "cell_type": "code",
   "execution_count": 27,
   "metadata": {
    "scrolled": true
   },
   "outputs": [
    {
     "name": "stdout",
     "output_type": "stream",
     "text": [
      "Normal Test Accuracy: 68.42%\n",
      "Augmented Test Accuracy: 27.74%\n"
     ]
    }
   ],
   "source": [
    "print(f\"Normal Test Accuracy: {get_accuracy(res_net, test_loader) * 100:.02f}%\")\n",
    "print(f\"Augmented Test Accuracy: {get_accuracy(res_net, test_loader, img_shift_and_warp) * 100:.02f}%\")"
   ]
  },
  {
   "cell_type": "markdown",
   "metadata": {},
   "source": [
    "The model still performs poorly, but can we achieve better performance by training on the randomly augmented data?"
   ]
  },
  {
   "cell_type": "code",
   "execution_count": 28,
   "metadata": {
    "scrolled": true
   },
   "outputs": [
    {
     "name": "stdout",
     "output_type": "stream",
     "text": [
      "Epoch: 1/10, Iter: 300/1750, Loss: 2.2084\n",
      "Epoch: 1/10, Iter: 600/1750, Loss: 2.3250\n",
      "Epoch: 1/10, Iter: 900/1750, Loss: 2.1126\n",
      "Epoch: 1/10, Iter: 1200/1750, Loss: 2.0650\n",
      "Epoch: 1/10, Iter: 1500/1750, Loss: 1.7726\n",
      "Epoch: 1/10, Iter: 1750/1750, Loss: 2.0578\n",
      "Epoch 1 Train Accuracy: 42.85%\n",
      "Epoch 1 Test Accuracy: 43.46%\n",
      "\n",
      "Epoch: 2/10, Iter: 300/1750, Loss: 1.9041\n",
      "Epoch: 2/10, Iter: 600/1750, Loss: 1.9240\n",
      "Epoch: 2/10, Iter: 900/1750, Loss: 1.8880\n",
      "Epoch: 2/10, Iter: 1200/1750, Loss: 2.0812\n",
      "Epoch: 2/10, Iter: 1500/1750, Loss: 1.8111\n",
      "Epoch: 2/10, Iter: 1750/1750, Loss: 2.0174\n",
      "Epoch 2 Train Accuracy: 48.66%\n",
      "Epoch 2 Test Accuracy: 49.18%\n",
      "\n",
      "Epoch: 3/10, Iter: 300/1750, Loss: 1.8721\n",
      "Epoch: 3/10, Iter: 600/1750, Loss: 1.9905\n",
      "Epoch: 3/10, Iter: 900/1750, Loss: 1.9879\n",
      "Epoch: 3/10, Iter: 1200/1750, Loss: 1.9672\n",
      "Epoch: 3/10, Iter: 1500/1750, Loss: 1.9713\n",
      "Epoch: 3/10, Iter: 1750/1750, Loss: 2.0213\n",
      "Epoch 3 Train Accuracy: 53.03%\n",
      "Epoch 3 Test Accuracy: 52.69%\n",
      "\n",
      "Epoch: 4/10, Iter: 300/1750, Loss: 2.0409\n",
      "Epoch: 4/10, Iter: 600/1750, Loss: 2.0536\n",
      "Epoch: 4/10, Iter: 900/1750, Loss: 1.9003\n",
      "Epoch: 4/10, Iter: 1200/1750, Loss: 1.9121\n",
      "Epoch: 4/10, Iter: 1500/1750, Loss: 2.1954\n",
      "Epoch: 4/10, Iter: 1750/1750, Loss: 1.7771\n",
      "Epoch 4 Train Accuracy: 54.60%\n",
      "Epoch 4 Test Accuracy: 54.36%\n",
      "\n",
      "Epoch: 5/10, Iter: 300/1750, Loss: 1.9528\n",
      "Epoch: 5/10, Iter: 600/1750, Loss: 1.8747\n",
      "Epoch: 5/10, Iter: 900/1750, Loss: 1.9700\n",
      "Epoch: 5/10, Iter: 1200/1750, Loss: 1.7421\n",
      "Epoch: 5/10, Iter: 1500/1750, Loss: 2.0586\n",
      "Epoch: 5/10, Iter: 1750/1750, Loss: 2.1142\n",
      "Epoch 5 Train Accuracy: 47.14%\n",
      "Epoch 5 Test Accuracy: 46.19%\n",
      "\n",
      "Epoch: 6/10, Iter: 300/1750, Loss: 1.9298\n",
      "Epoch: 6/10, Iter: 600/1750, Loss: 1.8960\n",
      "Epoch: 6/10, Iter: 900/1750, Loss: 1.8434\n",
      "Epoch: 6/10, Iter: 1200/1750, Loss: 2.1174\n",
      "Epoch: 6/10, Iter: 1500/1750, Loss: 1.9923\n",
      "Epoch: 6/10, Iter: 1750/1750, Loss: 1.9606\n",
      "Epoch 6 Train Accuracy: 44.99%\n",
      "Epoch 6 Test Accuracy: 44.40%\n",
      "\n",
      "Epoch: 7/10, Iter: 300/1750, Loss: 1.9611\n",
      "Epoch: 7/10, Iter: 600/1750, Loss: 2.2918\n",
      "Epoch: 7/10, Iter: 900/1750, Loss: 1.9355\n",
      "Epoch: 7/10, Iter: 1200/1750, Loss: 1.9924\n",
      "Epoch: 7/10, Iter: 1500/1750, Loss: 2.0549\n",
      "Epoch: 7/10, Iter: 1750/1750, Loss: 1.9587\n",
      "Epoch 7 Train Accuracy: 46.58%\n",
      "Epoch 7 Test Accuracy: 47.04%\n",
      "\n",
      "Epoch: 8/10, Iter: 300/1750, Loss: 1.9612\n",
      "Epoch: 8/10, Iter: 600/1750, Loss: 2.2112\n",
      "Epoch: 8/10, Iter: 900/1750, Loss: 2.1789\n",
      "Epoch: 8/10, Iter: 1200/1750, Loss: 2.1799\n",
      "Epoch: 8/10, Iter: 1500/1750, Loss: 1.9612\n",
      "Epoch: 8/10, Iter: 1750/1750, Loss: 2.0549\n",
      "Epoch 8 Train Accuracy: 32.58%\n",
      "Epoch 8 Test Accuracy: 32.56%\n",
      "\n",
      "Epoch: 9/10, Iter: 300/1750, Loss: 1.9013\n",
      "Epoch: 9/10, Iter: 600/1750, Loss: 2.1487\n",
      "Epoch: 9/10, Iter: 900/1750, Loss: 2.2424\n",
      "Epoch: 9/10, Iter: 1200/1750, Loss: 2.0862\n",
      "Epoch: 9/10, Iter: 1500/1750, Loss: 2.3049\n",
      "Epoch: 9/10, Iter: 1750/1750, Loss: 2.3357\n",
      "Epoch 9 Train Accuracy: 18.03%\n",
      "Epoch 9 Test Accuracy: 18.11%\n",
      "\n",
      "Epoch: 10/10, Iter: 300/1750, Loss: 2.3049\n",
      "Epoch: 10/10, Iter: 600/1750, Loss: 2.3033\n",
      "Epoch: 10/10, Iter: 900/1750, Loss: 2.3987\n",
      "Epoch: 10/10, Iter: 1200/1750, Loss: 2.3674\n",
      "Epoch: 10/10, Iter: 1500/1750, Loss: 2.2737\n",
      "Epoch: 10/10, Iter: 1750/1750, Loss: 2.4612\n",
      "Epoch 10 Train Accuracy: 13.92%\n",
      "Epoch 10 Test Accuracy: 14.21%\n",
      "\n"
     ]
    }
   ],
   "source": [
    "# Retrain using image warping...\n",
    "res_net = train_model(res_net, train_loader, test_loader, optimizer2, loss_func2, n_epochs2, img_shift_and_warp)"
   ]
  },
  {
   "cell_type": "code",
   "execution_count": 29,
   "metadata": {
    "scrolled": true
   },
   "outputs": [
    {
     "name": "stdout",
     "output_type": "stream",
     "text": [
      "Normal Test Accuracy: 19.18%\n",
      "Augmented Test Accuracy: 13.89%\n"
     ]
    }
   ],
   "source": [
    "print(f\"Normal Test Accuracy: {get_accuracy(res_net, test_loader) * 100:.02f}%\")\n",
    "print(f\"Augmented Test Accuracy: {get_accuracy(res_net, test_loader, img_shift_and_warp) * 100:.02f}%\")"
   ]
  },
  {
   "cell_type": "markdown",
   "metadata": {},
   "source": [
    "Okay, very strange. The accuracy peaks in the first few epochs and then crashes toward the end of training. I'm not sure why this would be."
   ]
  },
  {
   "cell_type": "markdown",
   "metadata": {},
   "source": [
    "### Questions\n",
    "\n",
    "__What results do you get using the ResNet? How do these differ from the simple fully connected network, and why do you think the results differ?__\n",
    "\n",
    "The main difference is the use of the identity shortcut connection. This allows the input to be added to the output of the stacked layers.\n",
    "\n",
    "__Try experimenting with different models above (including non-residual CNNs). How do your results differ from the regular ResNet?__\n",
    "\n",
    "### Bonus Exercise: Localized Results\n",
    "\n",
    "You may wonder if the CNN is not only able to tell us what digit we're looking at, but also where it is located. We can test if the CNN is providing localized results by removing the final average pooling layer, and applying the fully connected layers on every pixel instead of on the average of the pixels. We'll also pass the CNN an image with multiple numbers, to see if it is capable of identifying several numbers across the image.\n",
    "\n",
    "__What results do you observe below? Is the ResNet able to provide localized results?__"
   ]
  },
  {
   "cell_type": "code",
   "execution_count": null,
   "metadata": {},
   "outputs": [],
   "source": [
    "for img, label in train_loader:\n",
    "    fig = plt.figure(figsize=(6, 20))\n",
    "    axs = fig.subplots(11, 1)\n",
    "    \n",
    "    ax1, axs = axs[0], axs[1:]\n",
    "    \n",
    "    # Take the first set of numbers...\n",
    "    num_nums = min(batch_size, 10)\n",
    "    \n",
    "    img = torch.cat([p for p in img[:num_nums]], dim=1)\n",
    "    \n",
    "    # Network doesn't apply the softmax when we disable pooling, so we apply it here.\n",
    "    # This places all the scores between 0 and 1, and emphasises the highest score. \n",
    "    single_res_grid = torch.softmax(res_net.forward(img.reshape(1, 28, num_nums * 28), False), -1)[0]\n",
    "    \n",
    "    ax1.imshow(img.cpu().detach().numpy(), cmap=\"Greys\")\n",
    "    ax1.set_title(f\"Original Image\\n(Labels: {[int(l) for l in label[:num_nums]]})\")\n",
    "    \n",
    "    for i, ax in enumerate(axs):\n",
    "        ax.set_title(f\"Heatmap of CNN Output: {i}\")\n",
    "        total_len = single_res_grid[:, :, i]\n",
    "        ax.imshow(single_res_grid[:, :, i].cpu().detach().numpy(), vmin=0, vmax=1)\n",
    "    \n",
    "    fig.tight_layout()\n",
    "    fig.show()\n",
    "    \n",
    "    break"
   ]
  },
  {
   "cell_type": "code",
   "execution_count": null,
   "metadata": {},
   "outputs": [],
   "source": []
  }
 ],
 "metadata": {
  "instance_type": "ml.g4dn.xlarge",
  "kernelspec": {
   "display_name": "Python 3 (PyTorch 1.10 Python 3.8 GPU Optimized)",
   "language": "python",
   "name": "python3__SAGEMAKER_INTERNAL__arn:aws:sagemaker:us-east-1:081325390199:image/pytorch-1.10-gpu-py38"
  },
  "language_info": {
   "codemirror_mode": {
    "name": "ipython",
    "version": 3
   },
   "file_extension": ".py",
   "mimetype": "text/x-python",
   "name": "python",
   "nbconvert_exporter": "python",
   "pygments_lexer": "ipython3",
   "version": "3.8.10"
  }
 },
 "nbformat": 4,
 "nbformat_minor": 5
}
