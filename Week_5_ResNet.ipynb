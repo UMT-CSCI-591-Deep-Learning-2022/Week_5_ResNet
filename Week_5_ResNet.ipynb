{
 "cells": [
  {
   "cell_type": "markdown",
   "id": "9c67ea8b",
   "metadata": {},
   "source": [
    "# ResNets\n",
    "\n",
    "This week we discussed ResNets which are convolutional neural networks but with a residual learning framework realized by creating residual blocks via shortcut connections. In this notebook, we'll be implementing a fully connected NN, a plain CNN and a residual network and comparing the results on the MNIST dataset.\n",
    "\n",
    "We'll start off by loading the data. We'll be working with the MNIST dataset, which provides 70,000 labeled 28x28 images of handwritten digits. Our goal is to construct a classifier that recognizes handwritten digits."
   ]
  },
  {
   "cell_type": "code",
   "execution_count": null,
   "id": "d311a0bb",
   "metadata": {},
   "outputs": [],
   "source": [
    "import torch\n",
    "from torch import nn\n",
    "import numpy as np\n",
    "from sklearn.datasets import fetch_openml\n",
    "import torch.utils.data as data_utils\n",
    "from sklearn.model_selection import train_test_split\n",
    "from torch import optim\n",
    "import matplotlib.pyplot as plt\n",
    "from torchvision import transforms\n",
    "\n",
    "%matplotlib notebook\n",
    "\n",
    "# Load the dataset... This can take a while\n",
    "if(\"mnist\" not in globals()):  # Don't load the dataset twice...\n",
    "    mnist = fetch_openml('mnist_784', version=1)\n",
    "    # Convert DataFrame to 24x24 numpy arrays...\n",
    "    imgs = mnist.data.to_numpy().reshape(70000, 28, 28).astype(np.float32)\n",
    "    # Labels for the mnist data, 0-9 being the number...\n",
    "    labels = np.asarray(mnist.target).astype(int)\n",
    "    \n",
    "    imgs_train, imgs_test, labels_train, labels_test = train_test_split(\n",
    "        imgs, labels, test_size=0.2, random_state=1\n",
    "    )"
   ]
  },
  {
   "cell_type": "markdown",
   "id": "7549fc57",
   "metadata": {},
   "source": [
    "Let's plot one of the digits at random to see what they look like."
   ]
  },
  {
   "cell_type": "code",
   "execution_count": null,
   "id": "7269cb01",
   "metadata": {
    "scrolled": false
   },
   "outputs": [],
   "source": [
    "idx = np.random.randint(0, imgs.shape[0])\n",
    "single_digit = imgs[idx]\n",
    "single_label = labels[idx]\n",
    "\n",
    "fig, ax = plt.subplots(1, 1)\n",
    "ax.set_title(f\"Digit: {single_label}\")\n",
    "ax.imshow(single_digit, cmap=\"Greys\")\n",
    "fig.show()"
   ]
  },
  {
   "cell_type": "markdown",
   "id": "7d142723",
   "metadata": {},
   "source": [
    "We'll attempt to use a GPU to run these models. We'll check if one is available and assign it to our device."
   ]
  },
  {
   "cell_type": "code",
   "execution_count": null,
   "id": "fced8572",
   "metadata": {},
   "outputs": [],
   "source": [
    "is_cuda = torch.cuda.is_available()\n",
    "\n",
    "if is_cuda:\n",
    "    device = torch.device(\"cuda\") # GPU\n",
    "else:\n",
    "    device = torch.device(\"cpu\") # CPU\n",
    "    \n",
    "print(f\"Running PyTorch Using: {device}\")"
   ]
  },
  {
   "cell_type": "markdown",
   "id": "22eff670",
   "metadata": {},
   "source": [
    "Now we'll prepare our data for training and testing using Pytorch's DataLoader which will pass in samples in “minibatches” and reshuffle the data at every epoch to reduce model overfitting. "
   ]
  },
  {
   "cell_type": "code",
   "execution_count": null,
   "id": "d2a0d284",
   "metadata": {},
   "outputs": [],
   "source": [
    "# Set the batch size:\n",
    "batch_size = None\n",
    "\n",
    "# Set up data loaders, these will be used to train and test models...\n",
    "to_device = lambda a: torch.from_numpy(a).to(device)\n",
    "\n",
    "train_loader = data_utils.DataLoader(\n",
    "    data_utils.TensorDataset(to_device(imgs_train), to_device(labels_train)),\n",
    "    batch_size = batch_size,\n",
    "    shuffle = True\n",
    ")\n",
    "\n",
    "test_loader = data_utils.DataLoader(\n",
    "    data_utils.TensorDataset(to_device(imgs_test), to_device(labels_test)),\n",
    "    batch_size = batch_size,\n",
    "    shuffle = True\n",
    ")"
   ]
  },
  {
   "cell_type": "markdown",
   "id": "650c144f",
   "metadata": {},
   "source": [
    "## Simple Model: Fully Connected NN\n",
    "\n",
    "Now that we have our data set-up, let's start to implement our first network: a fully connected neural network."
   ]
  },
  {
   "cell_type": "code",
   "execution_count": null,
   "id": "1073fdae",
   "metadata": {},
   "outputs": [],
   "source": [
    "class SimpleNet(nn.Module):\n",
    "    def __init__(\n",
    "        self, \n",
    "        img_w: int, \n",
    "        img_h: int, \n",
    "        hidden_layer_sizes: list, \n",
    "        class_size: int\n",
    "    ):\n",
    "        super().__init__()\n",
    "        \n",
    "        self._in_layer = nn.Linear(img_w * img_h, hidden_layer_sizes[0])\n",
    "        \n",
    "        layers = []\n",
    "        for hls1, hls2 in zip(hidden_layer_sizes[:-1], hidden_layer_sizes[1:]):\n",
    "            layers.extend([nn.Linear(hls1, hls2), nn.ReLU()])\n",
    "        \n",
    "        self._hidden_layers = nn.Sequential(*layers)\n",
    "        \n",
    "        self._out_layer = nn.Linear(hidden_layer_sizes[-1], class_size)\n",
    "        self._softmax = nn.Softmax(dim=1)\n",
    "        \n",
    "    def forward(self, x: torch.tensor) -> torch.tensor:\n",
    "        x = x.reshape(-1, img_w * img_h)\n",
    "        \n",
    "        x = self._in_layer(x)\n",
    "        x = self._hidden_layers(x)\n",
    "        return self._softmax(self._out_layer(x))"
   ]
  },
  {
   "cell_type": "markdown",
   "id": "e137b258",
   "metadata": {},
   "source": [
    "Let's define some variables to use with our simple network."
   ]
  },
  {
   "cell_type": "code",
   "execution_count": null,
   "id": "aa504256",
   "metadata": {},
   "outputs": [],
   "source": [
    "# Set these!\n",
    "img_w = None  # Height of the images\n",
    "img_h = None  # Width of the images\n",
    "hidden_layer_sizes = [None, None, None]  # List of None\n",
    "class_size = None  # Size of output\n",
    "\n",
    "simple_net = SimpleNet(img_w, img_h, hidden_layer_sizes, class_size)\n",
    "simple_net.to(device)"
   ]
  },
  {
   "cell_type": "markdown",
   "id": "32840245",
   "metadata": {},
   "source": [
    "We also want some functions to see how our network performs. These are defined below:"
   ]
  },
  {
   "cell_type": "code",
   "execution_count": null,
   "id": "ef081397",
   "metadata": {},
   "outputs": [],
   "source": [
    "# Functions for training a model...\n",
    "def train_model(\n",
    "    model, \n",
    "    train_data, \n",
    "    test_data, \n",
    "    optimizer, \n",
    "    error_func, \n",
    "    n_epochs, \n",
    "    augment_method=None, \n",
    "    print_every=300\n",
    "):\n",
    "    for epoch_i in range(1, n_epochs + 1):\n",
    "        for i, (img, label) in enumerate(train_data, 1):\n",
    "            model.zero_grad()\n",
    "            # If an augmentation method is passed, use it before passing the image to the model.\n",
    "            predicted = model.forward(img if(augment_method is None) else augment_method(img))\n",
    "            loss = error_func(predicted, label)\n",
    "            loss.backward()\n",
    "            optimizer.step()\n",
    "            \n",
    "            if((i % print_every == 0) or (i == len(train_data))):\n",
    "                print(f\"Epoch: {epoch_i}/{n_epochs}, Iter: {i}/{len(train_data)}, Loss: {loss:.04f}\")\n",
    "                \n",
    "        # Run against the test set and train set at the end of each epoch to get accuracy...\n",
    "        acc1 = get_accuracy(model, train_data, augment_method)\n",
    "        print(f\"Epoch {epoch_i} Train Accuracy: {acc1 * 100:.02f}%\")\n",
    "        acc2 = get_accuracy(model, test_data, augment_method)\n",
    "        print(f\"Epoch {epoch_i} Test Accuracy: {acc2 * 100:.02f}%\\n\")\n",
    "    \n",
    "    return model\n",
    "        \n",
    "        \n",
    "def get_accuracy(model, data, im_mod = None):\n",
    "    run = 0\n",
    "    correct = 0\n",
    "\n",
    "    for img, label in data:\n",
    "        img = im_mod(img) if(im_mod is not None) else img   # Allows us to modify the images...\n",
    "        run += len(img)\n",
    "        result = model.forward(img).cpu().detach().numpy()\n",
    "        correct += np.sum(np.argmax(result, axis=1) == label.cpu().detach().numpy())\n",
    "\n",
    "    return correct / run"
   ]
  },
  {
   "cell_type": "markdown",
   "id": "51f80707",
   "metadata": {},
   "source": [
    "Let's set a number of epochs and a learning rate for the model and see how it does."
   ]
  },
  {
   "cell_type": "code",
   "execution_count": null,
   "id": "c9eb7686",
   "metadata": {},
   "outputs": [],
   "source": [
    "# Set these!\n",
    "n_epochs = None\n",
    "lr = None\n",
    "\n",
    "# Set up everything...\n",
    "optimizer = optim.Adam(simple_net.parameters(), lr=lr)\n",
    "loss_func = nn.CrossEntropyLoss()"
   ]
  },
  {
   "cell_type": "code",
   "execution_count": null,
   "id": "dbbe99dd",
   "metadata": {
    "scrolled": true
   },
   "outputs": [],
   "source": [
    "# Train the model...\n",
    "simple_net = train_model(simple_net, train_loader, test_loader, optimizer, loss_func, n_epochs)"
   ]
  },
  {
   "cell_type": "markdown",
   "id": "f6a7e947",
   "metadata": {},
   "source": [
    "### Is this model robust to translations?\n",
    "\n",
    "Our initial results are pretty good! Let's see the accuracy when we \"shift\" the image data around a little bit..."
   ]
  },
  {
   "cell_type": "code",
   "execution_count": null,
   "id": "7f115506",
   "metadata": {},
   "outputs": [],
   "source": [
    "img_transform = transforms.RandomAffine((-10, 10), (0.2, 0.2), (0.8, 1.2), (-5, 5))\n",
    "\n",
    "def img_shift_and_warp(img: torch.tensor) -> torch.tensor:\n",
    "    if(len(img.shape) == 2):\n",
    "        img = img.reshape(1, *img.shape)   \n",
    "    img = img_transform(img)\n",
    "    return img\n",
    "    \n",
    "\n",
    "# Show what img_shift_and_warp does to our images...\n",
    "random_idx = np.random.randint(0, len(imgs))\n",
    "\n",
    "fig, (ax1, ax2) = plt.subplots(1, 2)\n",
    "\n",
    "ax1.set_title(\"Original Image\")\n",
    "ax2.set_title(\"Shifted Image\")\n",
    "ax1.imshow(imgs[random_idx], cmap=\"Greys\")\n",
    "ax2.imshow(img_shift_and_warp(torch.from_numpy(imgs[random_idx]))[0], cmap=\"Greys\")\n",
    "\n",
    "fig.show()"
   ]
  },
  {
   "cell_type": "code",
   "execution_count": null,
   "id": "eac1c209",
   "metadata": {
    "scrolled": false
   },
   "outputs": [],
   "source": [
    "print(f\"Normal Test Accuracy: {get_accuracy(simple_net, test_loader) * 100:.02f}%\")\n",
    "print(f\"Augmented Test Accuracy: {get_accuracy(simple_net, test_loader, img_shift_and_warp) * 100:.02f}%\")"
   ]
  },
  {
   "cell_type": "markdown",
   "id": "20e4aeef",
   "metadata": {},
   "source": [
    "Yikes! Shifting around the numbers destroys the accuracy of our simple fully connected network destroys its performance. Can we fix this through data augmentation?"
   ]
  },
  {
   "cell_type": "code",
   "execution_count": null,
   "id": "ffb6c642",
   "metadata": {
    "scrolled": true
   },
   "outputs": [],
   "source": [
    "# Train the model...\n",
    "simple_net = train_model(simple_net, train_loader, test_loader, optimizer, loss_func, n_epochs, img_shift_and_warp)"
   ]
  },
  {
   "cell_type": "code",
   "execution_count": null,
   "id": "26ded958",
   "metadata": {
    "scrolled": true
   },
   "outputs": [],
   "source": [
    "print(f\"Normal Test Accuracy: {get_accuracy(simple_net, test_loader) * 100:.02f}%\")\n",
    "print(f\"Augmented Test Accuracy: {get_accuracy(simple_net, test_loader, img_shift_and_warp) * 100:.02f}%\")"
   ]
  },
  {
   "cell_type": "markdown",
   "id": "579ff327",
   "metadata": {},
   "source": [
    "Even after training the network using augmented images, we can see that a fully connected network still performs worse on transformed images. Even more interesting, is that the network now performs more poorly on the original data.\n",
    "\n",
    "### Question\n",
    "\n",
    "__Why do you think the model performs more poorly on the original data when trained on augmented data?__"
   ]
  },
  {
   "attachments": {
    "residual_block.png": {
     "image/png": "[encoded data removed]"
    }
   },
   "cell_type": "markdown",
   "id": "a79b1b2e",
   "metadata": {},
   "source": [
    "# Using a ResNet\n",
    "\n",
    "Now that we've looked at a fully connected network and a, let's see if we can achieve even better results with a residual network (ResNet).\n",
    "\n",
    "We'll start by defining a residual block. Let's do a quick recap on what this is.\n",
    "\n",
    "![residual_block.png](attachment:residual_block.png)\n",
    "\n",
    "Here we let $H(\\textbf{x})$ be the output of a few stacked nonlinear layers where $\\textbf{x}$ is the input to the first of these layers. \n",
    "We'll let these stacked layers fit a residual mapping (the difference between the input and output) with $F(\\textbf{x}) = H(\\textbf{x}) - \\textbf{x}$.\n",
    "Our original function now becomes $H(\\textbf{x}) = F(\\textbf{x}) + \\textbf{x}$. We expect this to be easier for the solvers to optimize as opposed to the original unreferenced mapping.\n",
    "\n",
    "A residual block can be formally defined with the equation\n",
    "$\\textbf{y} = F(\\textbf{x}, \\{W_{i}\\}) + W_s\\textbf{x}$ where $\\textbf{x}, \\textbf{y}$ are the input and output vectors and $F(\\textbf{x}, \\{W_{i}\\})$ is the residual mapping to be learned.\n",
    "For the example block shown here (what we'll be implementing) with two weight layers and a ReLU function, we let $F = W_2 \\sigma (W_1\\textbf{x})$\n",
    "\n",
    "The main thing to takeaway from residual blocks (and what makes ResNets differ from plain CNNs) is the use of the identity shortcut connection which allows the input to be added to the output of the stacked layers."
   ]
  },
  {
   "cell_type": "code",
   "execution_count": null,
   "id": "cd841210",
   "metadata": {},
   "outputs": [],
   "source": [
    "class ResidualBlock(nn.Module):\n",
    "    \"\"\"\n",
    "    A single residual block.\n",
    "    \"\"\"\n",
    "    def __init__(self, in_channels: int, out_channels: int, kernel_size: int, stride: int = 1):\n",
    "        super().__init__()\n",
    "        \n",
    "        if(kernel_size % 2 == 0):\n",
    "            raise ValueError(\"Kernel size must be odd!\")\n",
    "            \n",
    "        self._in_channels = in_channels\n",
    "        self._out_channels = out_channels\n",
    "        \n",
    "        self._conv1 = nn.Conv2d(in_channels, out_channels, kernel_size, stride, padding=kernel_size // 2)\n",
    "        self._relu = nn.ReLU()\n",
    "        self._conv2 = nn.Conv2d(out_channels, out_channels, kernel_size, 1, padding=kernel_size // 2)\n",
    "        \n",
    "        if(stride == 1):\n",
    "            self._identity = nn.Identity()\n",
    "        else:\n",
    "            # As paper suggests use convolution with 1x1 kernel and stride of 2 to linearly downsample the data\n",
    "            self._identity = nn.Conv2d(in_channels, out_channels, (1, 1), 2)\n",
    "        \n",
    "        self._relu2 = nn.ReLU()\n",
    "    \n",
    "    def forward(self, x: torch.tensor) -> torch.tensor:\n",
    "        # Non-Linear part...\n",
    "        x_nonlinear = self._conv2(self._relu(self._conv1(x)))\n",
    "        # Linear part...\n",
    "        x_linear = self._identity(x)\n",
    "        return self._relu2(x_nonlinear + x_linear)\n",
    "\n",
    "    \n",
    "class VanillaBlock(nn.Module):\n",
    "    \"\"\"\n",
    "    A single vanilla block (no skip connections).\n",
    "    \"\"\"\n",
    "    def __init__(self, in_channels: int, out_channels: int, kernel_size: int, stride: int = 1):\n",
    "        super().__init__()\n",
    "        \n",
    "        if(kernel_size % 2 == 0):\n",
    "            raise ValueError(\"Kernel size must be odd!\")\n",
    "            \n",
    "        self._in_channels = in_channels\n",
    "        self._out_channels = out_channels\n",
    "        \n",
    "        self._conv1 = nn.Conv2d(in_channels, out_channels, kernel_size, stride, padding=kernel_size // 2)\n",
    "        self._relu = nn.ReLU()\n",
    "        self._conv2 = nn.Conv2d(out_channels, out_channels, kernel_size, 1, padding=kernel_size // 2)\n",
    "        self._relu2 = nn.ReLU()\n",
    "    \n",
    "    def forward(self, x: torch.tensor) -> torch.tensor:\n",
    "        x_nonlinear = self._conv2(self._relu(self._conv1(x)))     \n",
    "        return self._relu2(x_nonlinear)\n"
   ]
  },
  {
   "cell_type": "markdown",
   "id": "5476a03c",
   "metadata": {},
   "source": [
    "Now, we'll define a network capable of taking a layer description list and building a ResNet style CNN out of this list."
   ]
  },
  {
   "cell_type": "code",
   "execution_count": null,
   "id": "49cfba7b",
   "metadata": {},
   "outputs": [],
   "source": [
    "class ResNet(nn.Module):\n",
    "    def __init__(self,\n",
    "        in_channels: int,\n",
    "        hidden_size: int, \n",
    "        output_size: int,\n",
    "        start_depth: int = 64\n",
    "    ):\n",
    "        super().__init__()\n",
    "        \n",
    "        self._output_size = output_size\n",
    "        self._in_channels = in_channels\n",
    "        \n",
    "        l_in = start_depth\n",
    "        \n",
    "        self._initial_conv = nn.Sequential(\n",
    "            nn.Conv2d(in_channels, l_in, 7, stride=1, padding=3),  # Modification, remove stride, makes final image too small...\n",
    "            nn.MaxPool2d(3, 2, padding=1)\n",
    "        )\n",
    "        \n",
    "        # Output dims, kernel size, stride, amount...\n",
    "        layers = self.get_layers(start_depth)\n",
    "        \n",
    "        self._final_layer_len = layers[-1][0]\n",
    "        \n",
    "        residual_layers = []\n",
    "                \n",
    "        for l_out, kernel, stride, count, block_cls in layers:\n",
    "            for i in range(count):\n",
    "                res = block_cls(l_in, l_out, kernel, stride)\n",
    "                residual_layers.append(res)\n",
    "            l_in = l_out\n",
    "        \n",
    "        self._residual_blocks = nn.Sequential(*residual_layers)\n",
    "        \n",
    "        self._final_pooling = nn.AdaptiveAvgPool2d(1)\n",
    "        \n",
    "        self._fully_connected = nn.Sequential(\n",
    "            nn.Linear(self._final_layer_len, hidden_size),\n",
    "            nn.Linear(hidden_size, output_size)\n",
    "        )\n",
    "        self._softmax = nn.Softmax(dim=1)\n",
    "        \n",
    "    def forward(self, x: torch.tensor, run_pooling: bool=True) -> torch.tensor:\n",
    "        batch_size = x.shape[0]\n",
    "        im_shape = x.shape[1:] if(len(x.shape) == 3) else x.shape[2:]\n",
    "        \n",
    "        x = x.reshape(batch_size, self._in_channels, *im_shape)\n",
    "        x = self._initial_conv(x)\n",
    "        x = self._residual_blocks(x)\n",
    "        \n",
    "        if(run_pooling):\n",
    "            x = torch.moveaxis(self._final_pooling(x), 1, -1)\n",
    "            x = x.reshape(-1, self._final_layer_len)\n",
    "            return self._softmax(self._fully_connected(x))\n",
    "        else:\n",
    "            # No pooling: Run the classifier on every pixel in the image...\n",
    "            im_shape = x.shape[2:]\n",
    "            x = torch.moveaxis(x, 1, -1).reshape(-1, self._final_layer_len)\n",
    "            x = self._fully_connected(x)\n",
    "            return x.reshape(batch_size, *im_shape, self._output_size)\n",
    "            \n",
    "    def get_layers(self, start_depth) -> list:\n",
    "        raise NotImplementedError(\"Use one of the ResNet subclasses!\")\n",
    "        "
   ]
  },
  {
   "cell_type": "markdown",
   "id": "b707235a",
   "metadata": {},
   "source": [
    "Now we can use this class to define several types of ResNets and regular CNNs"
   ]
  },
  {
   "cell_type": "code",
   "execution_count": null,
   "id": "b1a86f93",
   "metadata": {},
   "outputs": [],
   "source": [
    "# Layers: A list of tuples which describe the following in order:\n",
    "# (CNN layer depth, kernel size, stride, number of blocks, block class)\n",
    "        \n",
    "class VanillaNet18(ResNet):\n",
    "    def get_layers(self, l_in: int) -> list:\n",
    "        return [\n",
    "            (l_in, 3, 1, 2, VanillaBlock),\n",
    "            (l_in * 2, 3, 2, 1, VanillaBlock),\n",
    "            (l_in * 2, 3, 1, 1, VanillaBlock),\n",
    "            (l_in * 4, 3, 2, 1, VanillaBlock),\n",
    "            (l_in * 4, 3, 1, 1, VanillaBlock),\n",
    "            (l_in * 8, 3, 2, 1, VanillaBlock),\n",
    "            (l_in * 8, 3, 1, 1, VanillaBlock)\n",
    "        ]\n",
    "    \n",
    "class ResNet18(ResNet):\n",
    "    def get_layers(self, l_in: int) -> list:\n",
    "        return [\n",
    "            (l_in, 3, 1, 2, ResidualBlock),\n",
    "            (l_in * 2, 3, 2, 1, ResidualBlock),\n",
    "            (l_in * 2, 3, 1, 1, ResidualBlock),\n",
    "            (l_in * 4, 3, 2, 1, ResidualBlock),\n",
    "            (l_in * 4, 3, 1, 1, ResidualBlock),\n",
    "            (l_in * 8, 3, 2, 1, ResidualBlock),\n",
    "            (l_in * 8, 3, 1, 1, ResidualBlock)\n",
    "        ]\n",
    "    \n",
    "class VanillaNet34(ResNet):\n",
    "    def get_layers(self, l_in: int) -> list:\n",
    "        return [\n",
    "            (l_in, 3, 1, 3, VanillaBlock),\n",
    "            (l_in * 2, 3, 2, 1, VanillaBlock),\n",
    "            (l_in * 2, 3, 1, 3, VanillaBlock),\n",
    "            (l_in * 4, 3, 2, 1, VanillaBlock),\n",
    "            (l_in * 4, 3, 1, 5, VanillaBlock),\n",
    "            (l_in * 8, 3, 2, 1, VanillaBlock),\n",
    "            (l_in * 8, 3, 1, 2, VanillaBlock)\n",
    "        ]\n",
    "    \n",
    "class ResNet34(ResNet):\n",
    "    def get_layers(self, l_in: int) -> list:\n",
    "        return [\n",
    "            (l_in, 3, 1, 3, ResidualBlock),\n",
    "            (l_in * 2, 3, 2, 1, ResidualBlock),\n",
    "            (l_in * 2, 3, 1, 3, ResidualBlock),\n",
    "            (l_in * 4, 3, 2, 1, ResidualBlock),\n",
    "            (l_in * 4, 3, 1, 5, ResidualBlock),\n",
    "            (l_in * 8, 3, 2, 1, ResidualBlock),\n",
    "            (l_in * 8, 3, 1, 2, ResidualBlock)\n",
    "        ]"
   ]
  },
  {
   "cell_type": "markdown",
   "id": "453e84e5",
   "metadata": {},
   "source": [
    "We'll define a new ResNet (or non-ResNet) below."
   ]
  },
  {
   "cell_type": "code",
   "execution_count": null,
   "id": "ac30c8d0",
   "metadata": {},
   "outputs": [],
   "source": [
    "# What values should be here?\n",
    "in_channels = None  # Number of channels in passed data...\n",
    "output_size = None  # Number of output nodes.\n",
    "channel_start = None  # Number of channels to start the residual blocks with.\n",
    "hidden_layer_size = None  # Size of the fully connected hidden layer at the end.\n",
    "model_class = None  # The model class to use.\n",
    "\n",
    "\n",
    "res_net = model_class(in_channels, hidden_layer_size, output_size, channel_start)\n",
    "res_net.to(device)"
   ]
  },
  {
   "cell_type": "markdown",
   "id": "56202edc",
   "metadata": {},
   "source": [
    "Now we can train the ResNet using the same methods as the simple model above."
   ]
  },
  {
   "cell_type": "code",
   "execution_count": null,
   "id": "baa5b63b",
   "metadata": {},
   "outputs": [],
   "source": [
    "# Set these! \n",
    "n_epochs2 = None\n",
    "lr2 = None\n",
    "\n",
    "# Set up everything...\n",
    "optimizer2 = optim.SGD(res_net.parameters(), lr=lr2, momentum=0.9)\n",
    "loss_func2 = nn.CrossEntropyLoss()"
   ]
  },
  {
   "cell_type": "code",
   "execution_count": null,
   "id": "ae7e90c4",
   "metadata": {
    "scrolled": true
   },
   "outputs": [],
   "source": [
    "# Train the model...\n",
    "res_net = train_model(res_net, train_loader, test_loader, optimizer2, loss_func2, n_epochs2)"
   ]
  },
  {
   "cell_type": "markdown",
   "id": "bd416a3a",
   "metadata": {},
   "source": [
    "Let's see how this model performs on augmented data."
   ]
  },
  {
   "cell_type": "code",
   "execution_count": null,
   "id": "3fee0364",
   "metadata": {
    "scrolled": true
   },
   "outputs": [],
   "source": [
    "print(f\"Normal Test Accuracy: {get_accuracy(res_net, test_loader) * 100:.02f}%\")\n",
    "print(f\"Augmented Test Accuracy: {get_accuracy(res_net, test_loader, img_shift_and_warp) * 100:.02f}%\")"
   ]
  },
  {
   "cell_type": "markdown",
   "id": "c1c2e40c",
   "metadata": {},
   "source": [
    "The model still performs poorly, but can we achieve better performance by training on the randomly augmented data?"
   ]
  },
  {
   "cell_type": "code",
   "execution_count": null,
   "id": "a8943d90",
   "metadata": {
    "scrolled": true
   },
   "outputs": [],
   "source": [
    "# Retrain using image warping...\n",
    "res_net = train_model(res_net, train_loader, test_loader, optimizer2, loss_func2, n_epochs2, img_shift_and_warp)"
   ]
  },
  {
   "cell_type": "code",
   "execution_count": null,
   "id": "8da1bdf3",
   "metadata": {
    "scrolled": true
   },
   "outputs": [],
   "source": [
    "print(f\"Normal Test Accuracy: {get_accuracy(res_net, test_loader) * 100:.02f}%\")\n",
    "print(f\"Augmented Test Accuracy: {get_accuracy(res_net, test_loader, img_shift_and_warp) * 100:.02f}%\")"
   ]
  },
  {
   "cell_type": "markdown",
   "id": "3d1b4e42",
   "metadata": {},
   "source": [
    "### Questions\n",
    "\n",
    "__What results do you get using the ResNet? How do these differ from the simple fully connected network, and why do you think the results differ?__\n",
    "\n",
    "__Try experimenting with different models above (including non-residual CNNs). How do your results differ from the regular ResNet?__\n",
    "\n",
    "### Bonus Exercise: Localized Results\n",
    "\n",
    "You may wonder if the CNN is not only able to tell us what digit we're looking at, but also where it is located. We can test if the CNN is providing localized results by removing the final average pooling layer, and applying the fully connected layers on every pixel instead of on the average of the pixels. We'll also pass the CNN an image with multiple numbers, to see if it is capable of identifying several numbers across the image.\n",
    "\n",
    "__What results do you observe below? Is the ResNet able to provide localized results?__"
   ]
  },
  {
   "cell_type": "code",
   "execution_count": null,
   "id": "cc0177ff",
   "metadata": {
    "scrolled": false
   },
   "outputs": [],
   "source": [
    "for img, label in train_loader:\n",
    "    fig = plt.figure(figsize=(6, 20))\n",
    "    axs = fig.subplots(11, 1)\n",
    "    \n",
    "    ax1, axs = axs[0], axs[1:]\n",
    "    \n",
    "    # Take the first set of numbers...\n",
    "    num_nums = min(batch_size, 10)\n",
    "    \n",
    "    img = torch.cat([p for p in img[:num_nums]], dim=1)\n",
    "    \n",
    "    # Network doesn't apply the softmax when we disable pooling, so we apply it here.\n",
    "    # This places all the scores between 0 and 1, and emphasises the highest score. \n",
    "    single_res_grid = torch.softmax(res_net.forward(img.reshape(1, 28, num_nums * 28), False), -1)[0]\n",
    "    \n",
    "    ax1.imshow(img.cpu().detach().numpy(), cmap=\"Greys\")\n",
    "    ax1.set_title(f\"Original Image\\n(Labels: {[int(l) for l in label[:num_nums]]})\")\n",
    "    \n",
    "    for i, ax in enumerate(axs):\n",
    "        ax.set_title(f\"Heatmap of CNN Output: {i}\")\n",
    "        total_len = single_res_grid[:, :, i]\n",
    "        ax.imshow(single_res_grid[:, :, i].cpu().detach().numpy(), vmin=0, vmax=1)\n",
    "    \n",
    "    fig.tight_layout()\n",
    "    fig.show()\n",
    "    \n",
    "    break"
   ]
  },
  {
   "cell_type": "code",
   "execution_count": null,
   "id": "0fda7a3b",
   "metadata": {},
   "outputs": [],
   "source": []
  }
 ],
 "metadata": {
  "kernelspec": {
   "display_name": "Python 3 (ipykernel)",
   "language": "python",
   "name": "python3"
  },
  "language_info": {
   "codemirror_mode": {
    "name": "ipython",
    "version": 3
   },
   "file_extension": ".py",
   "mimetype": "text/x-python",
   "name": "python",
   "nbconvert_exporter": "python",
   "pygments_lexer": "ipython3",
   "version": "3.8.12"
  }
 },
 "nbformat": 4,
 "nbformat_minor": 5
}
